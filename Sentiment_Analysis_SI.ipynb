{
  "nbformat": 4,
  "nbformat_minor": 0,
  "metadata": {
    "colab": {
      "name": "Sentiment_Analysis_SI.ipynb",
      "provenance": [],
      "collapsed_sections": [],
      "toc_visible": true,
      "authorship_tag": "ABX9TyMTvlpjN6RaQoejbt1oLfXv",
      "include_colab_link": true
    },
    "kernelspec": {
      "name": "python3",
      "display_name": "Python 3"
    }
  },
  "cells": [
    {
      "cell_type": "markdown",
      "metadata": {
        "id": "view-in-github",
        "colab_type": "text"
      },
      "source": [
        "<a href=\"https://colab.research.google.com/github/limruby/sentiment_analysis/blob/branch-1/Sentiment_Analysis_SI.ipynb\" target=\"_parent\"><img src=\"https://colab.research.google.com/assets/colab-badge.svg\" alt=\"Open In Colab\"/></a>"
      ]
    },
    {
      "cell_type": "markdown",
      "metadata": {
        "id": "mBOgzdecBsK2"
      },
      "source": [
        "# **1. Import Library**\r\n",
        "\r\n",
        "\r\n",
        "\r\n",
        "\r\n"
      ]
    },
    {
      "cell_type": "markdown",
      "metadata": {
        "id": "FivK4kFuB0qC"
      },
      "source": [
        "\r\n",
        "\r\n",
        "*   Pandas is an open source, BSD-licensed library providing high-performance, easy-to-use data structures and data analysis tools for the Python programming language.\r\n",
        "*   NLTK is a leading platform for building Python programs to work with human language data.\r\n",
        "\r\n",
        "\r\n",
        "\r\n",
        "\r\n"
      ]
    },
    {
      "cell_type": "code",
      "metadata": {
        "id": "HjWT90d-BdRr"
      },
      "source": [
        "# Import Library\r\n",
        "import pandas as pd\r\n",
        "from nltk.sentiment.vader import SentimentIntensityAnalyzer\r\n",
        "import nltk\r\n",
        "from textblob import TextBlob\r\n",
        "from wordcloud import WordCloud\r\n",
        "import numpy as np\r\n",
        "import re\r\n",
        "import matplotlib.pyplot as plt\r\n",
        "plt.style.use('fivethirtyeight')"
      ],
      "execution_count": 16,
      "outputs": []
    },
    {
      "cell_type": "markdown",
      "metadata": {
        "id": "6ILcdNjLAhKr"
      },
      "source": [
        "# **2. Import Data**"
      ]
    },
    {
      "cell_type": "code",
      "metadata": {
        "id": "VVXvTkN0CkS8"
      },
      "source": [
        "# Import data from Github\r\n",
        "url = 'https://raw.githubusercontent.com/limruby/sentiment_analysis/branch-2/data_mask.csv'\r\n",
        "df = pd.read_csv(url, sep=',', encoding = \"ISO-8859-1\")"
      ],
      "execution_count": 2,
      "outputs": []
    },
    {
      "cell_type": "code",
      "metadata": {
        "colab": {
          "base_uri": "https://localhost:8080/",
          "height": 202
        },
        "id": "2jhklq-eHsxD",
        "outputId": "3244613e-4dd7-4f8e-8aed-ca2797349a42"
      },
      "source": [
        "df.head(5)"
      ],
      "execution_count": 3,
      "outputs": [
        {
          "output_type": "execute_result",
          "data": {
            "text/html": [
              "<div>\n",
              "<style scoped>\n",
              "    .dataframe tbody tr th:only-of-type {\n",
              "        vertical-align: middle;\n",
              "    }\n",
              "\n",
              "    .dataframe tbody tr th {\n",
              "        vertical-align: top;\n",
              "    }\n",
              "\n",
              "    .dataframe thead th {\n",
              "        text-align: right;\n",
              "    }\n",
              "</style>\n",
              "<table border=\"1\" class=\"dataframe\">\n",
              "  <thead>\n",
              "    <tr style=\"text-align: right;\">\n",
              "      <th></th>\n",
              "      <th>created_time</th>\n",
              "      <th>message</th>\n",
              "    </tr>\n",
              "  </thead>\n",
              "  <tbody>\n",
              "    <tr>\n",
              "      <th>0</th>\n",
              "      <td>11/1/2021 10:32</td>\n",
              "      <td>But once the mandate on the shot takes place w...</td>\n",
              "    </tr>\n",
              "    <tr>\n",
              "      <th>1</th>\n",
              "      <td>11/1/2021 9:31</td>\n",
              "      <td>He can go fuck himself...i have my rights...bu...</td>\n",
              "    </tr>\n",
              "    <tr>\n",
              "      <th>2</th>\n",
              "      <td>11/1/2021 9:08</td>\n",
              "      <td>Oh well...I'm not being ordered to do anything!!</td>\n",
              "    </tr>\n",
              "    <tr>\n",
              "      <th>3</th>\n",
              "      <td>12/1/2021 7:43</td>\n",
              "      <td>Dont forget to pok a hole in the mouth area w...</td>\n",
              "    </tr>\n",
              "    <tr>\n",
              "      <th>4</th>\n",
              "      <td>14/1/2021 23:44</td>\n",
              "      <td>I live in a state where masks are mandated and...</td>\n",
              "    </tr>\n",
              "  </tbody>\n",
              "</table>\n",
              "</div>"
            ],
            "text/plain": [
              "      created_time                                            message\n",
              "0  11/1/2021 10:32  But once the mandate on the shot takes place w...\n",
              "1   11/1/2021 9:31  He can go fuck himself...i have my rights...bu...\n",
              "2   11/1/2021 9:08   Oh well...I'm not being ordered to do anything!!\n",
              "3   12/1/2021 7:43  Dont forget to pok a hole in the mouth area w...\n",
              "4  14/1/2021 23:44  I live in a state where masks are mandated and..."
            ]
          },
          "metadata": {
            "tags": []
          },
          "execution_count": 3
        }
      ]
    },
    {
      "cell_type": "code",
      "metadata": {
        "colab": {
          "base_uri": "https://localhost:8080/"
        },
        "id": "ZuA128xsHyzA",
        "outputId": "2f97b61a-46f1-4a4b-b56a-69627eb6f7e7"
      },
      "source": [
        "df.shape"
      ],
      "execution_count": 4,
      "outputs": [
        {
          "output_type": "execute_result",
          "data": {
            "text/plain": [
              "(620, 2)"
            ]
          },
          "metadata": {
            "tags": []
          },
          "execution_count": 4
        }
      ]
    },
    {
      "cell_type": "markdown",
      "metadata": {
        "id": "gzCaeFHVH2XW"
      },
      "source": [
        "# **3. PreProcessing**\r\n"
      ]
    },
    {
      "cell_type": "markdown",
      "metadata": {
        "id": "cAn6TuiEIZfx"
      },
      "source": [
        "###2. Clean Text"
      ]
    },
    {
      "cell_type": "code",
      "metadata": {
        "colab": {
          "base_uri": "https://localhost:8080/"
        },
        "id": "dz6FHhGnIlrB",
        "outputId": "69536df3-13b0-453a-89d1-6c0b55b42c26"
      },
      "source": [
        "# Remove Duplicate from selected column\r\n",
        "df['message'] = df['message'].str.replace('http\\S+|www.\\S+', '', case=False)\r\n",
        "# Remove Username\r\n",
        "df['message'] = df['message'].str.replace('@[^\\s]+','', case=False)\r\n",
        "# Remove @mentions\r\n",
        "df['message'] = df['message'].str.replace('@[A-Za-z0–9]+', '', case=False)\r\n",
        "# Remove #hashtag\r\n",
        "df['message'] = df['message'].str.replace('#', '', case=False)\r\n",
        "\r\n",
        "df.message"
      ],
      "execution_count": 5,
      "outputs": [
        {
          "output_type": "execute_result",
          "data": {
            "text/plain": [
              "0      But once the mandate on the shot takes place w...\n",
              "1      He can go fuck himself...i have my rights...bu...\n",
              "2       Oh well...I'm not being ordered to do anything!!\n",
              "3      Dont forget to pok a hole in the mouth area w...\n",
              "4      I live in a state where masks are mandated and...\n",
              "                             ...                        \n",
              "615                                  He is full of shit!\n",
              "616                                                  Pos\n",
              "617                                              I agree\n",
              "618                                ????????????????biden\n",
              "619    Hes not my president and I dont give a fuck ...\n",
              "Name: message, Length: 620, dtype: object"
            ]
          },
          "metadata": {
            "tags": []
          },
          "execution_count": 5
        }
      ]
    },
    {
      "cell_type": "markdown",
      "metadata": {
        "id": "ilTx_xwnI0pp"
      },
      "source": [
        "###3. LowerCasing\r\n"
      ]
    },
    {
      "cell_type": "code",
      "metadata": {
        "colab": {
          "base_uri": "https://localhost:8080/"
        },
        "id": "qch-6L2rI5da",
        "outputId": "5f5081be-78c4-4040-9394-4a882cfe9249"
      },
      "source": [
        "# Change the message column into lowercase\r\n",
        "df['message'] = df['message'].str.lower()\r\n",
        "df.message"
      ],
      "execution_count": 6,
      "outputs": [
        {
          "output_type": "execute_result",
          "data": {
            "text/plain": [
              "0      but once the mandate on the shot takes place w...\n",
              "1      he can go fuck himself...i have my rights...bu...\n",
              "2       oh well...i'm not being ordered to do anything!!\n",
              "3      dont forget to pok a hole in the mouth area w...\n",
              "4      i live in a state where masks are mandated and...\n",
              "                             ...                        \n",
              "615                                  he is full of shit!\n",
              "616                                                  pos\n",
              "617                                              i agree\n",
              "618                                ????????????????biden\n",
              "619    hes not my president and i dont give a fuck ...\n",
              "Name: message, Length: 620, dtype: object"
            ]
          },
          "metadata": {
            "tags": []
          },
          "execution_count": 6
        }
      ]
    },
    {
      "cell_type": "markdown",
      "metadata": {
        "id": "gBtbrw_oJKkg"
      },
      "source": [
        "# **4. Sentiment Analysis**"
      ]
    },
    {
      "cell_type": "markdown",
      "metadata": {
        "id": "MOLKIGbXSh1i"
      },
      "source": [
        "###Get Subjectivity & polarity"
      ]
    },
    {
      "cell_type": "code",
      "metadata": {
        "id": "QQ_G7fUNJjbG"
      },
      "source": [
        "# Change title to string\r\n",
        "df['message'] = df['message'].astype(str)"
      ],
      "execution_count": 7,
      "outputs": []
    },
    {
      "cell_type": "code",
      "metadata": {
        "colab": {
          "base_uri": "https://localhost:8080/",
          "height": 415
        },
        "id": "vNPENl2NSmiw",
        "outputId": "4ceb09ad-59ea-40d3-d1cb-168be64aaec4"
      },
      "source": [
        "# Create a function to get subjectivity\r\n",
        "def getSubjectivity(message):\r\n",
        "  return TextBlob(message).sentiment.subjectivity\r\n",
        "\r\n",
        "# Create a function to get polarity\r\n",
        "def getPolarity(message):\r\n",
        "  return TextBlob(message).sentiment.polarity\r\n",
        "\r\n",
        "# Create two new columns\r\n",
        "df['Subjectivity'] = df ['message'].apply(getSubjectivity)\r\n",
        "df['Polarity'] = df['message'].apply(getPolarity)\r\n",
        "\r\n",
        "# Display data\r\n",
        "df"
      ],
      "execution_count": 8,
      "outputs": [
        {
          "output_type": "execute_result",
          "data": {
            "text/html": [
              "<div>\n",
              "<style scoped>\n",
              "    .dataframe tbody tr th:only-of-type {\n",
              "        vertical-align: middle;\n",
              "    }\n",
              "\n",
              "    .dataframe tbody tr th {\n",
              "        vertical-align: top;\n",
              "    }\n",
              "\n",
              "    .dataframe thead th {\n",
              "        text-align: right;\n",
              "    }\n",
              "</style>\n",
              "<table border=\"1\" class=\"dataframe\">\n",
              "  <thead>\n",
              "    <tr style=\"text-align: right;\">\n",
              "      <th></th>\n",
              "      <th>created_time</th>\n",
              "      <th>message</th>\n",
              "      <th>Subjectivity</th>\n",
              "      <th>Polarity</th>\n",
              "    </tr>\n",
              "  </thead>\n",
              "  <tbody>\n",
              "    <tr>\n",
              "      <th>0</th>\n",
              "      <td>11/1/2021 10:32</td>\n",
              "      <td>but once the mandate on the shot takes place w...</td>\n",
              "      <td>0.000000</td>\n",
              "      <td>0.000000</td>\n",
              "    </tr>\n",
              "    <tr>\n",
              "      <th>1</th>\n",
              "      <td>11/1/2021 9:31</td>\n",
              "      <td>he can go fuck himself...i have my rights...bu...</td>\n",
              "      <td>0.600000</td>\n",
              "      <td>-0.625000</td>\n",
              "    </tr>\n",
              "    <tr>\n",
              "      <th>2</th>\n",
              "      <td>11/1/2021 9:08</td>\n",
              "      <td>oh well...i'm not being ordered to do anything!!</td>\n",
              "      <td>0.000000</td>\n",
              "      <td>0.000000</td>\n",
              "    </tr>\n",
              "    <tr>\n",
              "      <th>3</th>\n",
              "      <td>12/1/2021 7:43</td>\n",
              "      <td>dont forget to pok a hole in the mouth area w...</td>\n",
              "      <td>0.454545</td>\n",
              "      <td>0.136364</td>\n",
              "    </tr>\n",
              "    <tr>\n",
              "      <th>4</th>\n",
              "      <td>14/1/2021 23:44</td>\n",
              "      <td>i live in a state where masks are mandated and...</td>\n",
              "      <td>0.590625</td>\n",
              "      <td>0.050379</td>\n",
              "    </tr>\n",
              "    <tr>\n",
              "      <th>...</th>\n",
              "      <td>...</td>\n",
              "      <td>...</td>\n",
              "      <td>...</td>\n",
              "      <td>...</td>\n",
              "    </tr>\n",
              "    <tr>\n",
              "      <th>615</th>\n",
              "      <td>11/1/2021 9:07</td>\n",
              "      <td>he is full of shit!</td>\n",
              "      <td>0.675000</td>\n",
              "      <td>0.050000</td>\n",
              "    </tr>\n",
              "    <tr>\n",
              "      <th>616</th>\n",
              "      <td>11/1/2021 9:06</td>\n",
              "      <td>pos</td>\n",
              "      <td>0.000000</td>\n",
              "      <td>0.000000</td>\n",
              "    </tr>\n",
              "    <tr>\n",
              "      <th>617</th>\n",
              "      <td>11/1/2021 9:06</td>\n",
              "      <td>i agree</td>\n",
              "      <td>0.000000</td>\n",
              "      <td>0.000000</td>\n",
              "    </tr>\n",
              "    <tr>\n",
              "      <th>618</th>\n",
              "      <td>11/1/2021 9:06</td>\n",
              "      <td>????????????????biden</td>\n",
              "      <td>0.000000</td>\n",
              "      <td>0.000000</td>\n",
              "    </tr>\n",
              "    <tr>\n",
              "      <th>619</th>\n",
              "      <td>11/1/2021 9:50</td>\n",
              "      <td>hes not my president and i dont give a fuck ...</td>\n",
              "      <td>0.600000</td>\n",
              "      <td>-0.400000</td>\n",
              "    </tr>\n",
              "  </tbody>\n",
              "</table>\n",
              "<p>620 rows × 4 columns</p>\n",
              "</div>"
            ],
            "text/plain": [
              "        created_time  ...  Polarity\n",
              "0    11/1/2021 10:32  ...  0.000000\n",
              "1     11/1/2021 9:31  ... -0.625000\n",
              "2     11/1/2021 9:08  ...  0.000000\n",
              "3     12/1/2021 7:43  ...  0.136364\n",
              "4    14/1/2021 23:44  ...  0.050379\n",
              "..               ...  ...       ...\n",
              "615   11/1/2021 9:07  ...  0.050000\n",
              "616   11/1/2021 9:06  ...  0.000000\n",
              "617   11/1/2021 9:06  ...  0.000000\n",
              "618   11/1/2021 9:06  ...  0.000000\n",
              "619   11/1/2021 9:50  ... -0.400000\n",
              "\n",
              "[620 rows x 4 columns]"
            ]
          },
          "metadata": {
            "tags": []
          },
          "execution_count": 8
        }
      ]
    },
    {
      "cell_type": "code",
      "metadata": {
        "colab": {
          "base_uri": "https://localhost:8080/",
          "height": 415
        },
        "id": "DWLMsbFyeIHg",
        "outputId": "49337fba-85c1-4472-f615-14a117faf1e1"
      },
      "source": [
        "# Function to compute the negative, neutral and positive analysis\r\n",
        "def getAnalysis(score):\r\n",
        "  if score < 0:\r\n",
        "    return 'Negative'\r\n",
        "  elif score == 0:\r\n",
        "    return 'Neutral'\r\n",
        "  else:\r\n",
        "    return 'Positive'\r\n",
        "\r\n",
        "df['Analysis'] = df['Polarity'].apply(getAnalysis)\r\n",
        "\r\n",
        "# Display data\r\n",
        "df"
      ],
      "execution_count": 9,
      "outputs": [
        {
          "output_type": "execute_result",
          "data": {
            "text/html": [
              "<div>\n",
              "<style scoped>\n",
              "    .dataframe tbody tr th:only-of-type {\n",
              "        vertical-align: middle;\n",
              "    }\n",
              "\n",
              "    .dataframe tbody tr th {\n",
              "        vertical-align: top;\n",
              "    }\n",
              "\n",
              "    .dataframe thead th {\n",
              "        text-align: right;\n",
              "    }\n",
              "</style>\n",
              "<table border=\"1\" class=\"dataframe\">\n",
              "  <thead>\n",
              "    <tr style=\"text-align: right;\">\n",
              "      <th></th>\n",
              "      <th>created_time</th>\n",
              "      <th>message</th>\n",
              "      <th>Subjectivity</th>\n",
              "      <th>Polarity</th>\n",
              "      <th>Analysis</th>\n",
              "    </tr>\n",
              "  </thead>\n",
              "  <tbody>\n",
              "    <tr>\n",
              "      <th>0</th>\n",
              "      <td>11/1/2021 10:32</td>\n",
              "      <td>but once the mandate on the shot takes place w...</td>\n",
              "      <td>0.000000</td>\n",
              "      <td>0.000000</td>\n",
              "      <td>Neutral</td>\n",
              "    </tr>\n",
              "    <tr>\n",
              "      <th>1</th>\n",
              "      <td>11/1/2021 9:31</td>\n",
              "      <td>he can go fuck himself...i have my rights...bu...</td>\n",
              "      <td>0.600000</td>\n",
              "      <td>-0.625000</td>\n",
              "      <td>Negative</td>\n",
              "    </tr>\n",
              "    <tr>\n",
              "      <th>2</th>\n",
              "      <td>11/1/2021 9:08</td>\n",
              "      <td>oh well...i'm not being ordered to do anything!!</td>\n",
              "      <td>0.000000</td>\n",
              "      <td>0.000000</td>\n",
              "      <td>Neutral</td>\n",
              "    </tr>\n",
              "    <tr>\n",
              "      <th>3</th>\n",
              "      <td>12/1/2021 7:43</td>\n",
              "      <td>dont forget to pok a hole in the mouth area w...</td>\n",
              "      <td>0.454545</td>\n",
              "      <td>0.136364</td>\n",
              "      <td>Positive</td>\n",
              "    </tr>\n",
              "    <tr>\n",
              "      <th>4</th>\n",
              "      <td>14/1/2021 23:44</td>\n",
              "      <td>i live in a state where masks are mandated and...</td>\n",
              "      <td>0.590625</td>\n",
              "      <td>0.050379</td>\n",
              "      <td>Positive</td>\n",
              "    </tr>\n",
              "    <tr>\n",
              "      <th>...</th>\n",
              "      <td>...</td>\n",
              "      <td>...</td>\n",
              "      <td>...</td>\n",
              "      <td>...</td>\n",
              "      <td>...</td>\n",
              "    </tr>\n",
              "    <tr>\n",
              "      <th>615</th>\n",
              "      <td>11/1/2021 9:07</td>\n",
              "      <td>he is full of shit!</td>\n",
              "      <td>0.675000</td>\n",
              "      <td>0.050000</td>\n",
              "      <td>Positive</td>\n",
              "    </tr>\n",
              "    <tr>\n",
              "      <th>616</th>\n",
              "      <td>11/1/2021 9:06</td>\n",
              "      <td>pos</td>\n",
              "      <td>0.000000</td>\n",
              "      <td>0.000000</td>\n",
              "      <td>Neutral</td>\n",
              "    </tr>\n",
              "    <tr>\n",
              "      <th>617</th>\n",
              "      <td>11/1/2021 9:06</td>\n",
              "      <td>i agree</td>\n",
              "      <td>0.000000</td>\n",
              "      <td>0.000000</td>\n",
              "      <td>Neutral</td>\n",
              "    </tr>\n",
              "    <tr>\n",
              "      <th>618</th>\n",
              "      <td>11/1/2021 9:06</td>\n",
              "      <td>????????????????biden</td>\n",
              "      <td>0.000000</td>\n",
              "      <td>0.000000</td>\n",
              "      <td>Neutral</td>\n",
              "    </tr>\n",
              "    <tr>\n",
              "      <th>619</th>\n",
              "      <td>11/1/2021 9:50</td>\n",
              "      <td>hes not my president and i dont give a fuck ...</td>\n",
              "      <td>0.600000</td>\n",
              "      <td>-0.400000</td>\n",
              "      <td>Negative</td>\n",
              "    </tr>\n",
              "  </tbody>\n",
              "</table>\n",
              "<p>620 rows × 5 columns</p>\n",
              "</div>"
            ],
            "text/plain": [
              "        created_time  ...  Analysis\n",
              "0    11/1/2021 10:32  ...   Neutral\n",
              "1     11/1/2021 9:31  ...  Negative\n",
              "2     11/1/2021 9:08  ...   Neutral\n",
              "3     12/1/2021 7:43  ...  Positive\n",
              "4    14/1/2021 23:44  ...  Positive\n",
              "..               ...  ...       ...\n",
              "615   11/1/2021 9:07  ...  Positive\n",
              "616   11/1/2021 9:06  ...   Neutral\n",
              "617   11/1/2021 9:06  ...   Neutral\n",
              "618   11/1/2021 9:06  ...   Neutral\n",
              "619   11/1/2021 9:50  ...  Negative\n",
              "\n",
              "[620 rows x 5 columns]"
            ]
          },
          "metadata": {
            "tags": []
          },
          "execution_count": 9
        }
      ]
    },
    {
      "cell_type": "markdown",
      "metadata": {
        "id": "LEG3Bw_foSzQ"
      },
      "source": [
        "### Print Positive Comments\r\n"
      ]
    },
    {
      "cell_type": "code",
      "metadata": {
        "colab": {
          "base_uri": "https://localhost:8080/"
        },
        "id": "utpdwSZQVaK-",
        "outputId": "c4e222b7-05fb-428e-88fc-0723fb9a7391"
      },
      "source": [
        "# Print all positive comments\r\n",
        "j=1\r\n",
        "sortedDF = df.sort_values(by=['Polarity'])\r\n",
        "for i in range(0, sortedDF.shape[0]):\r\n",
        "  if( sortedDF['Analysis'][i] == 'Positive'):\r\n",
        "    print(str(j) + ') ' + sortedDF['message'][i])\r\n",
        "    print()\r\n",
        "    j= j+1"
      ],
      "execution_count": 10,
      "outputs": [
        {
          "output_type": "stream",
          "text": [
            "1) dont forget to pok a hole in the mouth area when designing a new mask to insert a straw so food can suck in... restaurant will have new menu called protein meat smoothies\n",
            "\n",
            "2) i live in a state where masks are mandated and its a fight every day to get customers to wear their masks when they come in the basic human instinct is to make our own decisions ppl can be told to do something but its up to them to actually do it i personally am over the lies and the bullshit welcome to 4 years of ridiculous crap\n",
            "\n",
            "3) at first he said he would not do that when president. now he is.\n",
            "\n",
            "4) it is about control. see how fast they can tell us what to do and where to go. \n",
            "\n",
            "5) hes not pushing for a mask mandate he does know what hes doing he has dementia its a cronies around him. and honestly what have people been doing for months now. he will not do a better job than president trump he certainly didnt do it with sars when you were in office and did a terrible job\n",
            "\n",
            "6) go smell harris hair and leave the innocent little girls hair alone....and leave american citizens alone too  biden\n",
            "\n",
            "7) pull your mask up higher joe so we don't have to see your face.\n",
            "\n",
            "8) fauci wants to stay on the gravey train, 2 faced    con man\n",
            "\n",
            "9) at first he said he would not do that when president. now he is.\n",
            "\n",
            "10) i live in a state where masks are mandated and its a fight every day to get customers to wear their masks when they come in the basic human instinct is to make our own decisions ppl can be told to do something but its up to them to actually do it i personally am over the lies and the bullshit welcome to 4 years of ridiculous crap\n",
            "\n",
            "11) fauci wants to stay on the gravey train, 2 faced    con man\n",
            "\n",
            "12) wow is this joes big plan for getting rid of the covid what a genius lol\n",
            "\n",
            "13) yes i agree we need to stop the virus that trump unleashed on our country he went to china as he flew back to the united states he tossed hand full out the window and spread it all over the world that is what he did \n",
            "\n",
            "14) dont forget to pok a hole in the mouth area when designing a new mask to insert a straw so food can suck in... restaurant will have new menu called protein meat smoothies\n",
            "\n",
            "15) it is about control. see how fast they can tell us what to do and where to go. \n",
            "\n",
            "16) i am free, white and 21 and joe you don't tell me what to do.\n",
            "\n",
            "17) really, like we didn't know that. thought he had a plan. china joe\n",
            "\n",
            "18) wonder if hes going to work for free ?????? hahahaha yea right!\n",
            "\n",
            "19) he better consult the real leaders of the new word order his bosses and the people that now controll and bought our country silicon valley. good job america only in name now.idiots.\n",
            "\n",
            "20) easy for him.  he probably sleeps with it.\n",
            "\n",
            "21) oh that will help with unity  for sure.....\n",
            "\n",
            "22) make us... i have wore a mask exactly one time since this supposed covid outbreak. they wouldn't let me in dmv to register a car without it. anywhere else i suggest they kiss my ass.\n",
            "\n",
            "23) he needs a full mask over his head\n",
            "\n",
            "24) make dont work if he wants wear one more power to him\n",
            "\n",
            "25) good luck in enforcing it. we still r america. freedom of choice.\n",
            "\n",
            "26) total lunatic. he even said he wasn't coming to his own inauguration.\n",
            "\n",
            "27) inside ok, outside no way\n",
            "\n",
            "28) another ground breaking concept from our president elect!!\n",
            "\n",
            "29) y'all all go suck on little donnie. he loves you. hahahahaha. \n",
            "\n",
            "30) imagine if trump even mentioned that idea. the states are supposed to be in charge and honestly i dont need any government telling me whats best to protect my family and fellow citizens.   the democrats will be praising biden for it but i do hope the states do not just turn over their power to the federal government. \n",
            "\n",
            "31) wow what a presidential first action. lol. whats next in this sleepy joe?\n",
            "\n",
            "32) absolutely this bs is the communist party playbook\n",
            "\n",
            "33) i live in new york . it'll be no different, we already have a dictatorship here !!!\n",
            "\n",
            "34) i am interested in seeing how he will enforce it !\n",
            "\n",
            "35) will he send beto out to get our guns too? haha\n",
            "\n",
            "36) he's nuts.how about that..he's got a lot more things to worry about..the war that's coming\n",
            "\n",
            "37) he can take his mask and shove it straight up his ass....\n",
            "\n",
            "38) i think we should pick a high bridge in one of our 50 states and push biden off\n",
            "\n",
            "39) absolutely dont care what he says for the next four years  he cant even push his own wheelchair  not my president ????\n",
            "\n",
            "40) i'll do whatever i want. just like twitter,  apple, google and others. i am a private company of my own!\n",
            "\n",
            "41) where will it go from there??? wow\n",
            "\n",
            "42) old news this is from last year shortly after elections. \n",
            "\n",
            "43) i have know more words for this guy...\n",
            "\n",
            "44) good luck\n",
            "\n",
            "45) lol !!!!!!!!!!!!!!!!!!!!!!!!\n",
            "\n",
            "46) lol, fuck you\n",
            "\n",
            "47) good!\n",
            "\n",
            "48) antifa members were escorted by the police to the front of the capital. this was staged by the democrats, but now they are in serious trouble, because 5 people died. the police open the door for antifa. there are many pictures showing antifa vandalizing the inside of the building.  watch!    folks, they got pelosi's lap top and can prove her involvement. it was seized during the riot.  \n",
            "\n",
            "49) while watching this video, please keep in mind that blm/antifa have destroyed democratic run cities with no repercussion, they've killed police officers and injured over 1,000. to date, they have been openly allowed to commit crimes, again with no repercussion. we have many well known corporations donating to them as well as many celebrities. with that being said, i am asking every american citizen to boycott anyone that is donating to homeland terrorism. if you see a commercial advertising blm, call them and demand that it be removed!  fyi money donated to blm, goes to \"act blue\" which is actually a fund raising arm of the democratic party. so, basically the democrats funded the destruction of their democrat run states. if you donated to blm, you actually funded murdering police officers as well as the over 1,000 that were injured. many innocent american citizens were also murdered and/or injured by blm.  the money donated didn't go to improve black neighborhoods and/or black people's lives, the money donated gave them the capability to heavily arm each and everyone of them. now, they all have body armor as well as the most sophisticated weapons money can buy.   do not donate to these homeland terrorists! in actuality, since they are self proclaimed marxist/communist, you are donating to your own demise. their goal is to destroy capitalism as well as the family nucleus. fyi hitler, did the same thing before he killed millions of innocent jewish people using gas chambers and mass graves.\n",
            "\n",
            "50) he is sure a waste he is no president\n",
            "\n",
            "51) good luck with that\n",
            "\n",
            "52) he's  getting rich off this for sure\n",
            "\n",
            "53) lol thought it aready was\n",
            "\n",
            "54) he can f*ck right off.\n",
            "\n",
            "55) hes a complete joke. \n",
            "\n",
            "56) good luck!\n",
            "\n",
            "57) sure sure you incompetent buffoon??????\n",
            "\n",
            "58) he is full of shit!\n",
            "\n",
            "59) dont forget to pok a hole in the mouth area when designing a new mask to insert a straw so food can suck in... restaurant will have new menu called protein meat smoothies\n",
            "\n",
            "60) i live in a state where masks are mandated and its a fight every day to get customers to wear their masks when they come in the basic human instinct is to make our own decisions ppl can be told to do something but its up to them to actually do it i personally am over the lies and the bullshit welcome to 4 years of ridiculous crap\n",
            "\n",
            "61) at first he said he would not do that when president. now he is.\n",
            "\n",
            "62) it is about control. see how fast they can tell us what to do and where to go. \n",
            "\n",
            "63) hes not pushing for a mask mandate he does know what hes doing he has dementia its a cronies around him. and honestly what have people been doing for months now. he will not do a better job than president trump he certainly didnt do it with sars when you were in office and did a terrible job\n",
            "\n",
            "64) go smell harris hair and leave the innocent little girls hair alone....and leave american citizens alone too  biden\n",
            "\n",
            "65) pull your mask up higher joe so we don't have to see your face.\n",
            "\n",
            "66) fauci wants to stay on the gravey train, 2 faced    con man\n",
            "\n",
            "67) at first he said he would not do that when president. now he is.\n",
            "\n",
            "68) i live in a state where masks are mandated and its a fight every day to get customers to wear their masks when they come in the basic human instinct is to make our own decisions ppl can be told to do something but its up to them to actually do it i personally am over the lies and the bullshit welcome to 4 years of ridiculous crap\n",
            "\n",
            "69) fauci wants to stay on the gravey train, 2 faced    con man\n",
            "\n",
            "70) wow is this joes big plan for getting rid of the covid what a genius lol\n",
            "\n",
            "71) yes i agree we need to stop the virus that trump unleashed on our country he went to china as he flew back to the united states he tossed hand full out the window and spread it all over the world that is what he did \n",
            "\n",
            "72) dont forget to pok a hole in the mouth area when designing a new mask to insert a straw so food can suck in... restaurant will have new menu called protein meat smoothies\n",
            "\n",
            "73) it is about control. see how fast they can tell us what to do and where to go. \n",
            "\n",
            "74) i am free, white and 21 and joe you don't tell me what to do.\n",
            "\n",
            "75) really, like we didn't know that. thought he had a plan. china joe\n",
            "\n",
            "76) wonder if hes going to work for free ?????? hahahaha yea right!\n",
            "\n",
            "77) he better consult the real leaders of the new word order his bosses and the people that now controll and bought our country silicon valley. good job america only in name now.idiots.\n",
            "\n",
            "78) easy for him.  he probably sleeps with it.\n",
            "\n",
            "79) oh that will help with unity  for sure.....\n",
            "\n",
            "80) make us... i have wore a mask exactly one time since this supposed covid outbreak. they wouldn't let me in dmv to register a car without it. anywhere else i suggest they kiss my ass.\n",
            "\n",
            "81) he needs a full mask over his head\n",
            "\n",
            "82) make dont work if he wants wear one more power to him\n",
            "\n",
            "83) good luck in enforcing it. we still r america. freedom of choice.\n",
            "\n",
            "84) total lunatic. he even said he wasn't coming to his own inauguration.\n",
            "\n",
            "85) inside ok, outside no way\n",
            "\n",
            "86) another ground breaking concept from our president elect!!\n",
            "\n",
            "87) y'all all go suck on little donnie. he loves you. hahahahaha. \n",
            "\n",
            "88) imagine if trump even mentioned that idea. the states are supposed to be in charge and honestly i dont need any government telling me whats best to protect my family and fellow citizens.   the democrats will be praising biden for it but i do hope the states do not just turn over their power to the federal government. \n",
            "\n",
            "89) wow what a presidential first action. lol. whats next in this sleepy joe?\n",
            "\n",
            "90) absolutely this bs is the communist party playbook\n",
            "\n",
            "91) i live in new york . it'll be no different, we already have a dictatorship here !!!\n",
            "\n",
            "92) i am interested in seeing how he will enforce it !\n",
            "\n",
            "93) will he send beto out to get our guns too? haha\n",
            "\n",
            "94) he's nuts.how about that..he's got a lot more things to worry about..the war that's coming\n",
            "\n",
            "95) he can take his mask and shove it straight up his ass....\n",
            "\n",
            "96) i think we should pick a high bridge in one of our 50 states and push biden off\n",
            "\n",
            "97) absolutely dont care what he says for the next four years  he cant even push his own wheelchair  not my president ????\n",
            "\n",
            "98) i'll do whatever i want. just like twitter,  apple, google and others. i am a private company of my own!\n",
            "\n",
            "99) where will it go from there??? wow\n",
            "\n",
            "100) old news this is from last year shortly after elections. \n",
            "\n",
            "101) i have know more words for this guy...\n",
            "\n",
            "102) good luck\n",
            "\n",
            "103) lol !!!!!!!!!!!!!!!!!!!!!!!!\n",
            "\n",
            "104) lol, fuck you\n",
            "\n",
            "105) good!\n",
            "\n",
            "106) antifa members were escorted by the police to the front of the capital. this was staged by the democrats, but now they are in serious trouble, because 5 people died. the police open the door for antifa. there are many pictures showing antifa vandalizing the inside of the building.  watch!    folks, they got pelosi's lap top and can prove her involvement. it was seized during the riot.  \n",
            "\n",
            "107) while watching this video, please keep in mind that blm/antifa have destroyed democratic run cities with no repercussion, they've killed police officers and injured over 1,000. to date, they have been openly allowed to commit crimes, again with no repercussion. we have many well known corporations donating to them as well as many celebrities. with that being said, i am asking every american citizen to boycott anyone that is donating to homeland terrorism. if you see a commercial advertising blm, call them and demand that it be removed!  fyi money donated to blm, goes to \"act blue\" which is actually a fund raising arm of the democratic party. so, basically the democrats funded the destruction of their democrat run states. if you donated to blm, you actually funded murdering police officers as well as the over 1,000 that were injured. many innocent american citizens were also murdered and/or injured by blm.  the money donated didn't go to improve black neighborhoods and/or black people's lives, the money donated gave them the capability to heavily arm each and everyone of them. now, they all have body armor as well as the most sophisticated weapons money can buy.   do not donate to these homeland terrorists! in actuality, since they are self proclaimed marxist/communist, you are donating to your own demise. their goal is to destroy capitalism as well as the family nucleus. fyi hitler, did the same thing before he killed millions of innocent jewish people using gas chambers and mass graves.\n",
            "\n",
            "108) he is sure a waste he is no president\n",
            "\n",
            "109) good luck with that\n",
            "\n",
            "110) he's  getting rich off this for sure\n",
            "\n",
            "111) lol thought it aready was\n",
            "\n",
            "112) he can f*ck right off.\n",
            "\n",
            "113) hes a complete joke. \n",
            "\n",
            "114) good luck!\n",
            "\n",
            "115) sure sure you incompetent buffoon??????\n",
            "\n",
            "116) he is full of shit!\n",
            "\n"
          ],
          "name": "stdout"
        }
      ]
    },
    {
      "cell_type": "markdown",
      "metadata": {
        "id": "1QzGpiEWWfL1"
      },
      "source": [
        "### Print Negative Comments\r\n"
      ]
    },
    {
      "cell_type": "code",
      "metadata": {
        "colab": {
          "base_uri": "https://localhost:8080/"
        },
        "id": "5RixD0ieWd6p",
        "outputId": "0faaef21-3afb-419c-80a2-305ae4cd120a"
      },
      "source": [
        "# Print all negative comments\r\n",
        "j=1\r\n",
        "sortedDF = df.sort_values(by=['Polarity'], ascending='False')\r\n",
        "for i in range(0, sortedDF.shape[0]):\r\n",
        "  if(sortedDF['Analysis'][i] == 'Negative'):\r\n",
        "    print(str(j) + ')'+sortedDF['message'][i])\r\n",
        "    print()\r\n",
        "    j=j+1"
      ],
      "execution_count": 11,
      "outputs": [
        {
          "output_type": "stream",
          "text": [
            "1)he can go fuck himself...i have my rights...but i choose to wear one because of my job and my family...not doe him! never!\n",
            "\n",
            "2)if they've been wearing them in the states that have covid the worst then why is covid still so bad thete 3\n",
            "\n",
            "3)wrong, who told you to say that joe\n",
            "\n",
            "4)i see he got his second shot today sad. 4 the rest of the u.s.\n",
            "\n",
            "5)i am so sick of the dam mask and sick of hearing about covid too\n",
            "\n",
            "6)that's common sense don't need the president to tell.us that.\n",
            "\n",
            "7)stop the fear! open up, lets get to herd immunity already. mask dont work obviously, if its still raging? life is inherently dangerous. go hide under a rock if its too much for you to bare! \n",
            "\n",
            "8)sorry its my right and ill fight it all the way to court \n",
            "\n",
            "9)with everything going on hes about to be in jail with pelosi\n",
            "\n",
            "10)facebook and twitter stock holders sell your stock before it's worthless.\n",
            "\n",
            "11)sleep joe  is stupid  he can't  remember  anything  he  says  are where he is... we are going  to  be  in a  lot of  trouble  with  sleep joe..... we all going  to  die\n",
            "\n",
            "12)fuck that!! pedo joe and spread my legs harris can take that mask mandate and shove it up there a$$\n",
            "\n",
            "13)i think a white male  is fucked\n",
            "\n",
            "14)no one should have to tell you to put a mask on you should be smart enough to do it with out anyone telling you but stupid is as stupid does for you dumb assholes that just don't get it.  have someone you love die and then you might get it but i doubt it\n",
            "\n",
            "15)i decide when and where i wear a mask. i don't need an empty headed clown telling me what to do. freedom of choice. \n",
            "\n",
            "16)a 1/3  will never do it. it will take a long time  to get it under control.\n",
            "\n",
            "17)it's not going to stop him from sniffing little children\n",
            "\n",
            "18)fuck him i will not wear on. half the people i see wearing them are wearing wrong so to the stupid people out there wearing masks you do know that your nose has it be in the mask for it to work if you believe it does\n",
            "\n",
            "19)your  defunded the police  how you going to  enforce  that when you chouldnt  stop  a few peaceful  protesters  from taking over the  capitol,  and even  that police  didn't  want to harm there brothers, for your  sorry ass,\n",
            "\n",
            "20)what does he think weve been doing for 9 months.  what a moron \n",
            "\n",
            "21)i think bumbling biden is a puppet clown. no respect for this idiot\n",
            "\n",
            "22)he can kiss my ass right in the middle what a worthless pos & fake \n",
            "\n",
            "23)stupid old man cant amazing he run the country very sad day for america going downhill \n",
            "\n",
            "24)i think he is an idiot and don't want him for president\n",
            "\n",
            "25)stick your masks where sun don't shine idiot\n",
            "\n",
            "26)stupid, but he can even though he has no right. trump said it was up to the govenors.\n",
            "\n",
            "27)sorry telling us what to wear is unconstitutional.\n",
            "\n",
            "28)stick your mask up your arse, they are the f_$ ng problem get out and get fresh air you dumb ass\n",
            "\n",
            "29)they want everyone to be dependent on govt. what these morons voted for us disgusting.\n",
            "\n",
            "30)not in your power, idiot.\n",
            "\n",
            "31)what part of i will not comply dont you get? not wearing the shit, not for anyone....notta, you better lay the fuck off this subject\n",
            "\n",
            "32)he about as stupid as the people that wears mask driving alone in the cars.\n",
            "\n",
            "33)just the start of dictatorship be ready america the worse is yet to come.\n",
            "\n",
            "34)biden can go to china (hell), and fuck himself.\n",
            "\n",
            "35)stick the mask shit up your ass \n",
            "\n",
            "36)i'm going with fuck no.  i haven't nor will i ever wear a mask.  mandate this motherfucker!\n",
            "\n",
            "37)bidens a  moron and needs to go back in basement.\n",
            "\n",
            "38)i got something he can push.piece of shit pedophile\n",
            "\n",
            "39)fuck him\n",
            "\n",
            "40)fuck you joe \n",
            "\n",
            "41)fuck biden\n",
            "\n",
            "42)eat shit you disgusting cheating lying baboon \n",
            "\n",
            "43)f this blithering idiot!!\n",
            "\n",
            "44)umm your a fucking idiot\n",
            "\n",
            "45)fuck you dumb ass biden\n",
            "\n",
            "46)fuck you biden\n",
            "\n",
            "47)he is a fucking moron just like the rest of them. devil worshipers\n",
            "\n",
            "48)f**k you cheater and criminal\n",
            "\n",
            "49)fuck him\n",
            "\n",
            "50)this is the guy they want to put into our white house. he is a pedophile, criminal and plagiarist. are you ok with this?!  this shows how sick and twisted biden really is towards children. must read and share!        this is much bigger than we thought. the 3 hard drives contain the evidence of the democtrat party working directly with the chinese communist party (ccp) to put america under the control of china. this story is convoluted, one story about hunter's laptop contents, with a deeper story of the ccp compromising high level politicians on video with underage sex slaves and copious amounts of money for the purpose of controlling them and their policy decisions. china had all of this evidence first, because they initiated the evidence by setting up top officials (and their family members), and they have been using it to blackmail and control the entire upper levels of the democrat party and some republicans too. the entire deep state swamp is in the back pocket of the chinese communist party. the hard drives are in the hands of trump, doj, and fbi, and copies of the drives were sent to pelosi weeks, or even months, ago as a clear message--\"we have the evidence on all of you so, whatever it takes, defeat trump or you're all going down\". the reason this story is being so blatantly censored is because it's way bigger than just the bidens. it's a global game-changer. fb has major filtering on the accompanying video so i have posted the video link in the comment section below. open it from there. the chinese billionaire speaking in the video went missing a few weeks ago. i can guarantee you, he will never be heard from again. (if you share this post, please paste the video link from my comment feed into your comment feed).  here's your proof of biden's involvement in the attempted overthrow of the united states! pelosi is called out on this video by china!  \n",
            "\n",
            "51)biden is the biggest traitor and criminal in the history of the united states!! here's your proof of biden's involvement in the attempted overthrow of the united states! pelosi is called out on this video by china!    this is much bigger than we thought. the 3 hard drives contain the evidence of the democtrat party working directly with the chinese communist party (ccp) to put america under the control of china. this story is convoluted, one story about hunter's laptop contents, with a deeper story of the ccp compromising high level politicians on video with underage sex slaves and copious amounts of money for the purpose of controlling them and their policy decisions. china had all of this evidence first, because they initiated the evidence by setting up top officials (and their family members), and they have been using it to blackmail and control the entire upper levels of the democrat party and some republicans too. the entire deep state swamp is in the back pocket of the chinese communist party. the hard drives are in the hands of trump, doj, and fbi, and copies of the drives were sent to pelosi weeks, or even months, ago as a clear message--\"we have the evidence on all of you so, whatever it takes, defeat trump or you're all going down\". the reason this story is being so blatantly censored is because it's way bigger than just the bidens. it's a global game-changer. fb has major filtering on the accompanying video so i have posted the video link in the comment section below. open it from there. the chinese billionaire speaking in the video went missing a few weeks ago. i can guarantee you, he will never be heard from again. (if you share this post, please paste the video link from my comment feed into your comment feed).\n",
            "\n",
            "52)this is much bigger than we thought. the 3 hard drives contain the evidence of the democtrat party working directly with the chinese communist party (ccp) to put america under the control of china. this story is convoluted, one story about hunter's laptop contents, with a deeper story of the ccp compromising high level politicians on video with underage sex slaves and copious amounts of money for the purpose of controlling them and their policy decisions. china had all of this evidence first, because they initiated the evidence by setting up top officials (and their family members), and they have been using it to blackmail and control the entire upper levels of the democrat party and some republicans too. the entire deep state swamp is in the back pocket of the chinese communist party. the hard drives are in the hands of trump, doj, and fbi, and copies of the drives were sent to pelosi weeks, or even months, ago as a clear message--\"we have the evidence on all of you so, whatever it takes, defeat trump or you're all going down\". the reason this story is being so blatantly censored is because it's way bigger than just the bidens. it's a global game-changer. fb has major filtering on the accompanying video so i have posted the video link in the comment section below. open it from there. the chinese billionaire speaking in the video went missing a few weeks ago. i can guarantee you, he will never be heard from again. (if you share this post, please paste the video link from my comment feed into your comment feed).  here's your proof of biden's involvement in the attempted overthrow of the united states! pelosi is called out on this vi\n",
            "\n",
            "53)insane \n",
            "\n",
            "54)fuck biden the pedophile\n",
            "\n",
            "55)fuck you??\n",
            "\n",
            "56)i think hes a fucking nut\n",
            "\n",
            "57)good luck with that, idiot!!!\n",
            "\n",
            "58)duh ?\n",
            "\n",
            "59)go fuck yourself pos !!!\n",
            "\n",
            "60)fuck joe obiden!\n",
            "\n",
            "61)um fuck off\n",
            "\n",
            "62)us not your china moron\n",
            "\n",
            "63)fuck this guy and mark zuck\n",
            "\n",
            "64)joe biden can go fuck himself.\n",
            "\n",
            "65)fuck joe biden and anyone who voted for him.\n",
            "\n",
            "66)stupid as usual!\n",
            "\n",
            "67)go zto hell creepy joe\n",
            "\n",
            "68)take your mask nazis and fuck off. traitor. stand against this oppression of rights.\n",
            "\n",
            "69)i am behind you\n",
            "\n",
            "70)fuck him\n",
            "\n",
            "71)fuck you. \n",
            "\n",
            "72)fuck you biden you are a moron . your sins will come out soon\n",
            "\n",
            "73)he can kiss my ass i aint doing shit \n",
            "\n",
            "74)he's a fucking idiot\n",
            "\n",
            "75)hes a moron\n",
            "\n",
            "76)fuck him notmypresident\n",
            "\n",
            "77)fuck him\n",
            "\n",
            "78)fucking idiot's\n",
            "\n",
            "79)hes not my president and i dont give a fuck what he says\n",
            "\n",
            "80)he can go fuck himself...i have my rights...but i choose to wear one because of my job and my family...not doe him! never!\n",
            "\n",
            "81)if they've been wearing them in the states that have covid the worst then why is covid still so bad thete 3\n",
            "\n",
            "82)wrong, who told you to say that joe\n",
            "\n",
            "83)i see he got his second shot today sad. 4 the rest of the u.s.\n",
            "\n",
            "84)i am so sick of the dam mask and sick of hearing about covid too\n",
            "\n",
            "85)that's common sense don't need the president to tell.us that.\n",
            "\n",
            "86)stop the fear! open up, lets get to herd immunity already. mask dont work obviously, if its still raging? life is inherently dangerous. go hide under a rock if its too much for you to bare! \n",
            "\n",
            "87)sorry its my right and ill fight it all the way to court \n",
            "\n",
            "88)with everything going on hes about to be in jail with pelosi\n",
            "\n",
            "89)facebook and twitter stock holders sell your stock before it's worthless.\n",
            "\n",
            "90)sleep joe  is stupid  he can't  remember  anything  he  says  are where he is... we are going  to  be  in a  lot of  trouble  with  sleep joe..... we all going  to  die\n",
            "\n",
            "91)fuck that!! pedo joe and spread my legs harris can take that mask mandate and shove it up there a$$\n",
            "\n",
            "92)i think a white male  is fucked\n",
            "\n",
            "93)no one should have to tell you to put a mask on you should be smart enough to do it with out anyone telling you but stupid is as stupid does for you dumb assholes that just don't get it.  have someone you love die and then you might get it but i doubt it\n",
            "\n",
            "94)i decide when and where i wear a mask. i don't need an empty headed clown telling me what to do. freedom of choice. \n",
            "\n",
            "95)a 1/3  will never do it. it will take a long time  to get it under control.\n",
            "\n",
            "96)it's not going to stop him from sniffing little children\n",
            "\n",
            "97)fuck him i will not wear on. half the people i see wearing them are wearing wrong so to the stupid people out there wearing masks you do know that your nose has it be in the mask for it to work if you believe it does\n",
            "\n",
            "98)your  defunded the police  how you going to  enforce  that when you chouldnt  stop  a few peaceful  protesters  from taking over the  capitol,  and even  that police  didn't  want to harm there brothers, for your  sorry ass,\n",
            "\n",
            "99)what does he think weve been doing for 9 months.  what a moron \n",
            "\n",
            "100)i think bumbling biden is a puppet clown. no respect for this idiot\n",
            "\n",
            "101)he can kiss my ass right in the middle what a worthless pos & fake \n",
            "\n",
            "102)stupid old man cant amazing he run the country very sad day for america going downhill \n",
            "\n",
            "103)i think he is an idiot and don't want him for president\n",
            "\n",
            "104)stick your masks where sun don't shine idiot\n",
            "\n",
            "105)stupid, but he can even though he has no right. trump said it was up to the govenors.\n",
            "\n",
            "106)sorry telling us what to wear is unconstitutional.\n",
            "\n",
            "107)stick your mask up your arse, they are the f_$ ng problem get out and get fresh air you dumb ass\n",
            "\n",
            "108)they want everyone to be dependent on govt. what these morons voted for us disgusting.\n",
            "\n",
            "109)not in your power, idiot.\n",
            "\n",
            "110)what part of i will not comply dont you get? not wearing the shit, not for anyone....notta, you better lay the fuck off this subject\n",
            "\n",
            "111)he about as stupid as the people that wears mask driving alone in the cars.\n",
            "\n",
            "112)just the start of dictatorship be ready america the worse is yet to come.\n",
            "\n",
            "113)biden can go to china (hell), and fuck himself.\n",
            "\n",
            "114)stick the mask shit up your ass \n",
            "\n",
            "115)i'm going with fuck no.  i haven't nor will i ever wear a mask.  mandate this motherfucker!\n",
            "\n",
            "116)bidens a  moron and needs to go back in basement.\n",
            "\n",
            "117)i got something he can push.piece of shit pedophile\n",
            "\n",
            "118)fuck him\n",
            "\n",
            "119)fuck you joe \n",
            "\n",
            "120)fuck biden\n",
            "\n",
            "121)eat shit you disgusting cheating lying baboon \n",
            "\n",
            "122)f this blithering idiot!!\n",
            "\n",
            "123)umm your a fucking idiot\n",
            "\n",
            "124)fuck you dumb ass biden\n",
            "\n",
            "125)fuck you biden\n",
            "\n",
            "126)he is a fucking moron just like the rest of them. devil worshipers\n",
            "\n",
            "127)f**k you cheater and criminal\n",
            "\n",
            "128)fuck him\n",
            "\n",
            "129)this is the guy they want to put into our white house. he is a pedophile, criminal and plagiarist. are you ok with this?!  this shows how sick and twisted biden really is towards children. must read and share!        this is much bigger than we thought. the 3 hard drives contain the evidence of the democtrat party working directly with the chinese communist party (ccp) to put america under the control of china. this story is convoluted, one story about hunter's laptop contents, with a deeper story of the ccp compromising high level politicians on video with underage sex slaves and copious amounts of money for the purpose of controlling them and their policy decisions. china had all of this evidence first, because they initiated the evidence by setting up top officials (and their family members), and they have been using it to blackmail and control the entire upper levels of the democrat party and some republicans too. the entire deep state swamp is in the back pocket of the chinese communist party. the hard drives are in the hands of trump, doj, and fbi, and copies of the drives were sent to pelosi weeks, or even months, ago as a clear message--\"we have the evidence on all of you so, whatever it takes, defeat trump or you're all going down\". the reason this story is being so blatantly censored is because it's way bigger than just the bidens. it's a global game-changer. fb has major filtering on the accompanying video so i have posted the video link in the comment section below. open it from there. the chinese billionaire speaking in the video went missing a few weeks ago. i can guarantee you, he will never be heard from again. (if you share this post, please paste the video link from my comment feed into your comment feed).  here's your proof of biden's involvement in the attempted overthrow of the united states! pelosi is called out on this video by china!  \n",
            "\n",
            "130)biden is the biggest traitor and criminal in the history of the united states!! here's your proof of biden's involvement in the attempted overthrow of the united states! pelosi is called out on this video by china!    this is much bigger than we thought. the 3 hard drives contain the evidence of the democtrat party working directly with the chinese communist party (ccp) to put america under the control of china. this story is convoluted, one story about hunter's laptop contents, with a deeper story of the ccp compromising high level politicians on video with underage sex slaves and copious amounts of money for the purpose of controlling them and their policy decisions. china had all of this evidence first, because they initiated the evidence by setting up top officials (and their family members), and they have been using it to blackmail and control the entire upper levels of the democrat party and some republicans too. the entire deep state swamp is in the back pocket of the chinese communist party. the hard drives are in the hands of trump, doj, and fbi, and copies of the drives were sent to pelosi weeks, or even months, ago as a clear message--\"we have the evidence on all of you so, whatever it takes, defeat trump or you're all going down\". the reason this story is being so blatantly censored is because it's way bigger than just the bidens. it's a global game-changer. fb has major filtering on the accompanying video so i have posted the video link in the comment section below. open it from there. the chinese billionaire speaking in the video went missing a few weeks ago. i can guarantee you, he will never be heard from again. (if you share this post, please paste the video link from my comment feed into your comment feed).\n",
            "\n",
            "131)this is much bigger than we thought. the 3 hard drives contain the evidence of the democtrat party working directly with the chinese communist party (ccp) to put america under the control of china. this story is convoluted, one story about hunter's laptop contents, with a deeper story of the ccp compromising high level politicians on video with underage sex slaves and copious amounts of money for the purpose of controlling them and their policy decisions. china had all of this evidence first, because they initiated the evidence by setting up top officials (and their family members), and they have been using it to blackmail and control the entire upper levels of the democrat party and some republicans too. the entire deep state swamp is in the back pocket of the chinese communist party. the hard drives are in the hands of trump, doj, and fbi, and copies of the drives were sent to pelosi weeks, or even months, ago as a clear message--\"we have the evidence on all of you so, whatever it takes, defeat trump or you're all going down\". the reason this story is being so blatantly censored is because it's way bigger than just the bidens. it's a global game-changer. fb has major filtering on the accompanying video so i have posted the video link in the comment section below. open it from there. the chinese billionaire speaking in the video went missing a few weeks ago. i can guarantee you, he will never be heard from again. (if you share this post, please paste the video link from my comment feed into your comment feed).  here's your proof of biden's involvement in the attempted overthrow of the united states! pelosi is called out on this vi\n",
            "\n",
            "132)insane \n",
            "\n",
            "133)fuck biden the pedophile\n",
            "\n",
            "134)fuck you??\n",
            "\n",
            "135)i think hes a fucking nut\n",
            "\n",
            "136)good luck with that, idiot!!!\n",
            "\n",
            "137)duh ?\n",
            "\n",
            "138)go fuck yourself pos !!!\n",
            "\n",
            "139)fuck joe obiden!\n",
            "\n",
            "140)um fuck off\n",
            "\n",
            "141)us not your china moron\n",
            "\n",
            "142)fuck this guy and mark zuck\n",
            "\n",
            "143)joe biden can go fuck himself.\n",
            "\n",
            "144)fuck joe biden and anyone who voted for him.\n",
            "\n",
            "145)stupid as usual!\n",
            "\n",
            "146)go zto hell creepy joe\n",
            "\n",
            "147)take your mask nazis and fuck off. traitor. stand against this oppression of rights.\n",
            "\n",
            "148)i am behind you\n",
            "\n",
            "149)fuck him\n",
            "\n",
            "150)fuck you. \n",
            "\n",
            "151)fuck you biden you are a moron . your sins will come out soon\n",
            "\n",
            "152)he can kiss my ass i aint doing shit \n",
            "\n",
            "153)he's a fucking idiot\n",
            "\n",
            "154)hes a moron\n",
            "\n",
            "155)fuck him notmypresident\n",
            "\n",
            "156)fuck him\n",
            "\n",
            "157)fucking idiot's\n",
            "\n",
            "158)hes not my president and i dont give a fuck what he says\n",
            "\n"
          ],
          "name": "stdout"
        }
      ]
    },
    {
      "cell_type": "markdown",
      "metadata": {
        "id": "o7deTDQqKHFK"
      },
      "source": [
        "### Visualization"
      ]
    },
    {
      "cell_type": "code",
      "metadata": {
        "colab": {
          "base_uri": "https://localhost:8080/",
          "height": 248
        },
        "id": "lIlYtoVNQZ8K",
        "outputId": "28fc5191-4aac-408b-ec59-e5d3094405e7"
      },
      "source": [
        "# plot Word Cloud\r\n",
        "allWords = ' '.join( [message for message in df['message']])\r\n",
        "wordCloud = WordCloud(width = 500, height=300, random_state = 21, max_font_size=119).generate(allWords)\r\n",
        "\r\n",
        "plt.imshow(wordCloud, interpolation=\"bilinear\")\r\n",
        "plt.axis('off')\r\n",
        "plt.show()"
      ],
      "execution_count": 12,
      "outputs": [
        {
          "output_type": "display_data",
          "data": {
            "image/png": "[encoded data removed]",
            "text/plain": [
              "<Figure size 432x288 with 1 Axes>"
            ]
          },
          "metadata": {
            "tags": [],
            "needs_background": "light"
          }
        }
      ]
    },
    {
      "cell_type": "code",
      "metadata": {
        "colab": {
          "base_uri": "https://localhost:8080/",
          "height": 405
        },
        "id": "eJqQJx_BXeys",
        "outputId": "fa76f1d9-1526-4011-e874-403b7573c386"
      },
      "source": [
        "# Plot the polarity and subjectivity\r\n",
        "plt.figure(figsize=(8,6))\r\n",
        "for i in range(0, df.shape[0]):\r\n",
        "  plt.scatter(df['Polarity'][i], df['Subjectivity'][i], color='Blue')\r\n",
        "\r\n",
        "plt.title('Sentiment Analysis')\r\n",
        "plt.xlabel('Polarity')\r\n",
        "plt.ylabel('Subjectivity')\r\n",
        "plt.show()"
      ],
      "execution_count": 13,
      "outputs": [
        {
          "output_type": "display_data",
          "data": {
            "image/png": "[encoded data removed]",
            "text/plain": [
              "<Figure size 576x432 with 1 Axes>"
            ]
          },
          "metadata": {
            "tags": [],
            "needs_background": "light"
          }
        }
      ]
    },
    {
      "cell_type": "code",
      "metadata": {
        "colab": {
          "base_uri": "https://localhost:8080/",
          "height": 349
        },
        "id": "9aq05bMGaLNj",
        "outputId": "7bdf67b8-3b9c-4224-f823-cd1fd09a560b"
      },
      "source": [
        "# Show value counts\r\n",
        "\r\n",
        "df['Analysis'].value_counts()\r\n",
        "\r\n",
        "# Plot and visualize the counts\r\n",
        "plt.title('Sentiment Analysis')\r\n",
        "plt.xlabel('Sentiment')\r\n",
        "plt.ylabel('Counts')\r\n",
        "df['Analysis'].value_counts().plot(kind='bar')\r\n",
        "plt.show"
      ],
      "execution_count": 14,
      "outputs": [
        {
          "output_type": "execute_result",
          "data": {
            "text/plain": [
              "<function matplotlib.pyplot.show>"
            ]
          },
          "metadata": {
            "tags": []
          },
          "execution_count": 14
        },
        {
          "output_type": "display_data",
          "data": {
            "image/png": "[encoded data removed]",
            "text/plain": [
              "<Figure size 432x288 with 1 Axes>"
            ]
          },
          "metadata": {
            "tags": [],
            "needs_background": "light"
          }
        }
      ]
    },
    {
      "cell_type": "markdown",
      "metadata": {
        "id": "lwlkeD9bKU-f"
      },
      "source": [
        "### Save to CSV"
      ]
    },
    {
      "cell_type": "code",
      "metadata": {
        "id": "M0c0wY7YKYMP"
      },
      "source": [
        "df.to_csv('Output_File.csv', index=False)"
      ],
      "execution_count": 15,
      "outputs": []
    }
  ]
}