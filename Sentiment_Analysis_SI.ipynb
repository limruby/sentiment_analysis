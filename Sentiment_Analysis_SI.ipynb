{
  "nbformat": 4,
  "nbformat_minor": 0,
  "metadata": {
    "colab": {
      "name": "Sentiment_Analysis_SI.ipynb",
      "provenance": [],
      "collapsed_sections": [],
      "toc_visible": true,
      "authorship_tag": "ABX9TyPMAqvoqyyvxcWLII4KSrIy",
      "include_colab_link": true
    },
    "kernelspec": {
      "name": "python3",
      "display_name": "Python 3"
    }
  },
  "cells": [
    {
      "cell_type": "markdown",
      "metadata": {
        "id": "view-in-github",
        "colab_type": "text"
      },
      "source": [
        "<a href=\"https://colab.research.google.com/github/limruby/sentiment_analysis/blob/main/Sentiment_Analysis_SI.ipynb\" target=\"_parent\"><img src=\"https://colab.research.google.com/assets/colab-badge.svg\" alt=\"Open In Colab\"/></a>"
      ]
    },
    {
      "cell_type": "markdown",
      "metadata": {
        "id": "mBOgzdecBsK2"
      },
      "source": [
        "# **1. Import Library**\r\n",
        "\r\n",
        "\r\n",
        "\r\n",
        "\r\n"
      ]
    },
    {
      "cell_type": "markdown",
      "metadata": {
        "id": "FivK4kFuB0qC"
      },
      "source": [
        "\r\n",
        "\r\n",
        "*   Pandas is an open source, BSD-licensed library providing high-performance, easy-to-use data structures and data analysis tools for the Python programming language.\r\n",
        "*   NLTK is a leading platform for building Python programs to work with human language data.\r\n",
        "\r\n",
        "\r\n",
        "\r\n",
        "\r\n"
      ]
    },
    {
      "cell_type": "code",
      "metadata": {
        "id": "HjWT90d-BdRr"
      },
      "source": [
        "# Import Library\r\n",
        "import pandas as pd\r\n",
        "from nltk.sentiment.vader import SentimentIntensityAnalyzer\r\n",
        "import nltk\r\n",
        "from textblob import TextBlob\r\n",
        "from wordcloud import WordCloud\r\n",
        "import numpy as np\r\n",
        "import re\r\n",
        "import matplotlib.pyplot as plt\r\n",
        "plt.style.use('fivethirtyeight')"
      ],
      "execution_count": null,
      "outputs": []
    },
    {
      "cell_type": "markdown",
      "metadata": {
        "id": "6ILcdNjLAhKr"
      },
      "source": [
        "# **2. Import Data**"
      ]
    },
    {
      "cell_type": "code",
      "metadata": {
        "id": "VVXvTkN0CkS8"
      },
      "source": [
        "# Import data from Github\r\n",
        "url = 'https://raw.githubusercontent.com/limruby/sentiment_analysis/branch-3/data_masknew.csv'\r\n",
        "df = pd.read_csv(url, sep=',', encoding = \"ISO-8859-1\")"
      ],
      "execution_count": null,
      "outputs": []
    },
    {
      "cell_type": "code",
      "metadata": {
        "colab": {
          "base_uri": "https://localhost:8080/",
          "height": 202
        },
        "id": "2jhklq-eHsxD",
        "outputId": "9aae05e2-85bd-43e9-a779-08250f0fdea6"
      },
      "source": [
        "df.head(5)"
      ],
      "execution_count": null,
      "outputs": [
        {
          "output_type": "execute_result",
          "data": {
            "text/html": [
              "<div>\n",
              "<style scoped>\n",
              "    .dataframe tbody tr th:only-of-type {\n",
              "        vertical-align: middle;\n",
              "    }\n",
              "\n",
              "    .dataframe tbody tr th {\n",
              "        vertical-align: top;\n",
              "    }\n",
              "\n",
              "    .dataframe thead th {\n",
              "        text-align: right;\n",
              "    }\n",
              "</style>\n",
              "<table border=\"1\" class=\"dataframe\">\n",
              "  <thead>\n",
              "    <tr style=\"text-align: right;\">\n",
              "      <th></th>\n",
              "      <th>created_time</th>\n",
              "      <th>message</th>\n",
              "    </tr>\n",
              "  </thead>\n",
              "  <tbody>\n",
              "    <tr>\n",
              "      <th>0</th>\n",
              "      <td>15/01/2021 06:14</td>\n",
              "      <td>I have know more words for this guy...</td>\n",
              "    </tr>\n",
              "    <tr>\n",
              "      <th>1</th>\n",
              "      <td>15/01/2021 05:42</td>\n",
              "      <td>Fuck him I will not wear on. Half the people I...</td>\n",
              "    </tr>\n",
              "    <tr>\n",
              "      <th>2</th>\n",
              "      <td>15/01/2021 05:27</td>\n",
              "      <td>JUST THE START OF DICTATORSHIP BE READY AMERIC...</td>\n",
              "    </tr>\n",
              "    <tr>\n",
              "      <th>3</th>\n",
              "      <td>15/01/2021 01:41</td>\n",
              "      <td>Once again he can kiss my ass</td>\n",
              "    </tr>\n",
              "    <tr>\n",
              "      <th>4</th>\n",
              "      <td>14/01/2021 23:44</td>\n",
              "      <td>I live in a state where masks are mandated and...</td>\n",
              "    </tr>\n",
              "  </tbody>\n",
              "</table>\n",
              "</div>"
            ],
            "text/plain": [
              "       created_time                                            message\n",
              "0  15/01/2021 06:14             I have know more words for this guy...\n",
              "1  15/01/2021 05:42  Fuck him I will not wear on. Half the people I...\n",
              "2  15/01/2021 05:27  JUST THE START OF DICTATORSHIP BE READY AMERIC...\n",
              "3  15/01/2021 01:41                      Once again he can kiss my ass\n",
              "4  14/01/2021 23:44  I live in a state where masks are mandated and..."
            ]
          },
          "metadata": {
            "tags": []
          },
          "execution_count": 4
        }
      ]
    },
    {
      "cell_type": "code",
      "metadata": {
        "colab": {
          "base_uri": "https://localhost:8080/"
        },
        "id": "ZuA128xsHyzA",
        "outputId": "92e5bc99-c286-4ccd-d8b2-53c589783290"
      },
      "source": [
        "df.shape"
      ],
      "execution_count": null,
      "outputs": [
        {
          "output_type": "execute_result",
          "data": {
            "text/plain": [
              "(322, 2)"
            ]
          },
          "metadata": {
            "tags": []
          },
          "execution_count": 5
        }
      ]
    },
    {
      "cell_type": "markdown",
      "metadata": {
        "id": "gzCaeFHVH2XW"
      },
      "source": [
        "# **3. PreProcessing**\r\n"
      ]
    },
    {
      "cell_type": "markdown",
      "metadata": {
        "id": "cAn6TuiEIZfx"
      },
      "source": [
        "###2. Clean Text"
      ]
    },
    {
      "cell_type": "code",
      "metadata": {
        "colab": {
          "base_uri": "https://localhost:8080/"
        },
        "id": "dz6FHhGnIlrB",
        "outputId": "b9b3ef86-4b7f-469a-b41f-5d1e95271bb9"
      },
      "source": [
        "# Remove Duplicate from selected column\r\n",
        "df['message'] = df['message'].str.replace('http\\S+|www.\\S+', '', case=False)\r\n",
        "# Remove Username\r\n",
        "df['message'] = df['message'].str.replace('@[^\\s]+','', case=False)\r\n",
        "# Remove @mentions\r\n",
        "df['message'] = df['message'].str.replace('@[A-Za-z0–9]+', '', case=False)\r\n",
        "# Remove #hashtag\r\n",
        "df['message'] = df['message'].str.replace('#', '', case=False)\r\n",
        "\r\n",
        "df.message"
      ],
      "execution_count": null,
      "outputs": [
        {
          "output_type": "execute_result",
          "data": {
            "text/plain": [
              "0                 I have know more words for this guy...\n",
              "1      Fuck him I will not wear on. Half the people I...\n",
              "2      JUST THE START OF DICTATORSHIP BE READY AMERIC...\n",
              "3                          Once again he can kiss my ass\n",
              "4      I live in a state where masks are mandated and...\n",
              "                             ...                        \n",
              "317    He's nuts.How about that..He's got a lot more ...\n",
              "318           Easy for him.  He probably sleeps with it.\n",
              "319                                ????????????????biden\n",
              "320                                ????????????????biden\n",
              "321                        What do you think about this?\n",
              "Name: message, Length: 322, dtype: object"
            ]
          },
          "metadata": {
            "tags": []
          },
          "execution_count": 6
        }
      ]
    },
    {
      "cell_type": "markdown",
      "metadata": {
        "id": "ilTx_xwnI0pp"
      },
      "source": [
        "###3. LowerCasing\r\n"
      ]
    },
    {
      "cell_type": "code",
      "metadata": {
        "id": "qch-6L2rI5da",
        "colab": {
          "base_uri": "https://localhost:8080/"
        },
        "outputId": "72690f01-288c-4cf4-bdd9-86552eb25223"
      },
      "source": [
        "# Change the message column into lowercase\r\n",
        "df['message'] = df['message'].str.lower()\r\n",
        "df.message"
      ],
      "execution_count": null,
      "outputs": [
        {
          "output_type": "execute_result",
          "data": {
            "text/plain": [
              "0                 i have know more words for this guy...\n",
              "1      fuck him i will not wear on. half the people i...\n",
              "2      just the start of dictatorship be ready americ...\n",
              "3                          once again he can kiss my ass\n",
              "4      i live in a state where masks are mandated and...\n",
              "                             ...                        \n",
              "317    he's nuts.how about that..he's got a lot more ...\n",
              "318           easy for him.  he probably sleeps with it.\n",
              "319                                ????????????????biden\n",
              "320                                ????????????????biden\n",
              "321                        what do you think about this?\n",
              "Name: message, Length: 322, dtype: object"
            ]
          },
          "metadata": {
            "tags": []
          },
          "execution_count": 7
        }
      ]
    },
    {
      "cell_type": "markdown",
      "metadata": {
        "id": "gBtbrw_oJKkg"
      },
      "source": [
        "# **4. Sentiment Analysis**"
      ]
    },
    {
      "cell_type": "markdown",
      "metadata": {
        "id": "MOLKIGbXSh1i"
      },
      "source": [
        "###Get Subjectivity & polarity"
      ]
    },
    {
      "cell_type": "code",
      "metadata": {
        "id": "QQ_G7fUNJjbG"
      },
      "source": [
        "# Change title to string\r\n",
        "df['message'] = df['message'].astype(str)"
      ],
      "execution_count": null,
      "outputs": []
    },
    {
      "cell_type": "code",
      "metadata": {
        "id": "_oZDcY1arJ9r",
        "colab": {
          "base_uri": "https://localhost:8080/"
        },
        "outputId": "be520a03-0454-4eb7-b92a-0da6d6aef780"
      },
      "source": [
        "# Import library for Text Analytics\r\n",
        "import nltk\r\n",
        "nltk.download('vader_lexicon')"
      ],
      "execution_count": null,
      "outputs": [
        {
          "output_type": "stream",
          "text": [
            "[nltk_data] Downloading package vader_lexicon to /root/nltk_data...\n",
            "[nltk_data]   Package vader_lexicon is already up-to-date!\n"
          ],
          "name": "stdout"
        },
        {
          "output_type": "execute_result",
          "data": {
            "text/plain": [
              "True"
            ]
          },
          "metadata": {
            "tags": []
          },
          "execution_count": 9
        }
      ]
    },
    {
      "cell_type": "code",
      "metadata": {
        "id": "q-LLzVVcrMFl",
        "colab": {
          "base_uri": "https://localhost:8080/",
          "height": 355
        },
        "outputId": "a59ffc88-c416-48de-e239-bc58a6c10a93"
      },
      "source": [
        "# Sentiment Analysis Using Vader Lexicon\r\n",
        "sid = SentimentIntensityAnalyzer()\r\n",
        "listy = [] \r\n",
        "for index, row in df.iterrows():\r\n",
        "  df['message']\r\n",
        "  ss = sid.polarity_scores(row['message'])\r\n",
        "  listy.append(ss)\r\n",
        "  \r\n",
        "se = pd.Series(listy)\r\n",
        "df['polarity'] = se.values\r\n",
        "display(df.head(10))"
      ],
      "execution_count": null,
      "outputs": [
        {
          "output_type": "display_data",
          "data": {
            "text/html": [
              "<div>\n",
              "<style scoped>\n",
              "    .dataframe tbody tr th:only-of-type {\n",
              "        vertical-align: middle;\n",
              "    }\n",
              "\n",
              "    .dataframe tbody tr th {\n",
              "        vertical-align: top;\n",
              "    }\n",
              "\n",
              "    .dataframe thead th {\n",
              "        text-align: right;\n",
              "    }\n",
              "</style>\n",
              "<table border=\"1\" class=\"dataframe\">\n",
              "  <thead>\n",
              "    <tr style=\"text-align: right;\">\n",
              "      <th></th>\n",
              "      <th>created_time</th>\n",
              "      <th>message</th>\n",
              "      <th>polarity</th>\n",
              "    </tr>\n",
              "  </thead>\n",
              "  <tbody>\n",
              "    <tr>\n",
              "      <th>0</th>\n",
              "      <td>15/01/2021 06:14</td>\n",
              "      <td>i have know more words for this guy...</td>\n",
              "      <td>{'neg': 0.0, 'neu': 1.0, 'pos': 0.0, 'compound...</td>\n",
              "    </tr>\n",
              "    <tr>\n",
              "      <th>1</th>\n",
              "      <td>15/01/2021 05:42</td>\n",
              "      <td>fuck him i will not wear on. half the people i...</td>\n",
              "      <td>{'neg': 0.196, 'neu': 0.804, 'pos': 0.0, 'comp...</td>\n",
              "    </tr>\n",
              "    <tr>\n",
              "      <th>2</th>\n",
              "      <td>15/01/2021 05:27</td>\n",
              "      <td>just the start of dictatorship be ready americ...</td>\n",
              "      <td>{'neg': 0.176, 'neu': 0.682, 'pos': 0.142, 'co...</td>\n",
              "    </tr>\n",
              "    <tr>\n",
              "      <th>3</th>\n",
              "      <td>15/01/2021 01:41</td>\n",
              "      <td>once again he can kiss my ass</td>\n",
              "      <td>{'neg': 0.31, 'neu': 0.442, 'pos': 0.248, 'com...</td>\n",
              "    </tr>\n",
              "    <tr>\n",
              "      <th>4</th>\n",
              "      <td>14/01/2021 23:44</td>\n",
              "      <td>i live in a state where masks are mandated and...</td>\n",
              "      <td>{'neg': 0.221, 'neu': 0.728, 'pos': 0.051, 'co...</td>\n",
              "    </tr>\n",
              "    <tr>\n",
              "      <th>5</th>\n",
              "      <td>14/01/2021 22:42</td>\n",
              "      <td>if they can make national mandates about this ...</td>\n",
              "      <td>{'neg': 0.0, 'neu': 1.0, 'pos': 0.0, 'compound...</td>\n",
              "    </tr>\n",
              "    <tr>\n",
              "      <th>6</th>\n",
              "      <td>14/01/2021 20:33</td>\n",
              "      <td>mask deez nutz!</td>\n",
              "      <td>{'neg': 0.0, 'neu': 1.0, 'pos': 0.0, 'compound...</td>\n",
              "    </tr>\n",
              "    <tr>\n",
              "      <th>7</th>\n",
              "      <td>13/01/2021 21:32</td>\n",
              "      <td>yes folks!  this is the person, that the media...</td>\n",
              "      <td>{'neg': 0.064, 'neu': 0.899, 'pos': 0.037, 'co...</td>\n",
              "    </tr>\n",
              "    <tr>\n",
              "      <th>8</th>\n",
              "      <td>13/01/2021 21:17</td>\n",
              "      <td>he better consult the real leaders of the new ...</td>\n",
              "      <td>{'neg': 0.0, 'neu': 0.838, 'pos': 0.162, 'comp...</td>\n",
              "    </tr>\n",
              "    <tr>\n",
              "      <th>9</th>\n",
              "      <td>13/01/2021 20:50</td>\n",
              "      <td>good luck</td>\n",
              "      <td>{'neg': 0.0, 'neu': 0.0, 'pos': 1.0, 'compound...</td>\n",
              "    </tr>\n",
              "  </tbody>\n",
              "</table>\n",
              "</div>"
            ],
            "text/plain": [
              "       created_time  ...                                           polarity\n",
              "0  15/01/2021 06:14  ...  {'neg': 0.0, 'neu': 1.0, 'pos': 0.0, 'compound...\n",
              "1  15/01/2021 05:42  ...  {'neg': 0.196, 'neu': 0.804, 'pos': 0.0, 'comp...\n",
              "2  15/01/2021 05:27  ...  {'neg': 0.176, 'neu': 0.682, 'pos': 0.142, 'co...\n",
              "3  15/01/2021 01:41  ...  {'neg': 0.31, 'neu': 0.442, 'pos': 0.248, 'com...\n",
              "4  14/01/2021 23:44  ...  {'neg': 0.221, 'neu': 0.728, 'pos': 0.051, 'co...\n",
              "5  14/01/2021 22:42  ...  {'neg': 0.0, 'neu': 1.0, 'pos': 0.0, 'compound...\n",
              "6  14/01/2021 20:33  ...  {'neg': 0.0, 'neu': 1.0, 'pos': 0.0, 'compound...\n",
              "7  13/01/2021 21:32  ...  {'neg': 0.064, 'neu': 0.899, 'pos': 0.037, 'co...\n",
              "8  13/01/2021 21:17  ...  {'neg': 0.0, 'neu': 0.838, 'pos': 0.162, 'comp...\n",
              "9  13/01/2021 20:50  ...  {'neg': 0.0, 'neu': 0.0, 'pos': 1.0, 'compound...\n",
              "\n",
              "[10 rows x 3 columns]"
            ]
          },
          "metadata": {
            "tags": []
          }
        }
      ]
    },
    {
      "cell_type": "code",
      "metadata": {
        "colab": {
          "base_uri": "https://localhost:8080/",
          "height": 589
        },
        "id": "vNPENl2NSmiw",
        "outputId": "2520cc4c-c07b-45ac-a020-8239871c2132"
      },
      "source": [
        "# Create a function to get subjectivity\r\n",
        "def getSubjectivity(message):\r\n",
        "  return TextBlob(message).sentiment.subjectivity\r\n",
        "\r\n",
        "# Create a function to get polarity\r\n",
        "def getPolarity(message):\r\n",
        "  return TextBlob(message).sentiment.polarity\r\n",
        "\r\n",
        "# Create two new columns\r\n",
        "df['Subjectivity'] = df ['message'].apply(getSubjectivity)\r\n",
        "df['Polarity'] = df['message'].apply(getPolarity)\r\n",
        "\r\n",
        "# Display data\r\n",
        "df"
      ],
      "execution_count": null,
      "outputs": [
        {
          "output_type": "execute_result",
          "data": {
            "text/html": [
              "<div>\n",
              "<style scoped>\n",
              "    .dataframe tbody tr th:only-of-type {\n",
              "        vertical-align: middle;\n",
              "    }\n",
              "\n",
              "    .dataframe tbody tr th {\n",
              "        vertical-align: top;\n",
              "    }\n",
              "\n",
              "    .dataframe thead th {\n",
              "        text-align: right;\n",
              "    }\n",
              "</style>\n",
              "<table border=\"1\" class=\"dataframe\">\n",
              "  <thead>\n",
              "    <tr style=\"text-align: right;\">\n",
              "      <th></th>\n",
              "      <th>created_time</th>\n",
              "      <th>message</th>\n",
              "      <th>polarity</th>\n",
              "      <th>Subjectivity</th>\n",
              "      <th>Polarity</th>\n",
              "    </tr>\n",
              "  </thead>\n",
              "  <tbody>\n",
              "    <tr>\n",
              "      <th>0</th>\n",
              "      <td>15/01/2021 06:14</td>\n",
              "      <td>i have know more words for this guy...</td>\n",
              "      <td>{'neg': 0.0, 'neu': 1.0, 'pos': 0.0, 'compound...</td>\n",
              "      <td>0.500000</td>\n",
              "      <td>0.500000</td>\n",
              "    </tr>\n",
              "    <tr>\n",
              "      <th>1</th>\n",
              "      <td>15/01/2021 05:42</td>\n",
              "      <td>fuck him i will not wear on. half the people i...</td>\n",
              "      <td>{'neg': 0.196, 'neu': 0.804, 'pos': 0.0, 'comp...</td>\n",
              "      <td>0.666667</td>\n",
              "      <td>-0.466667</td>\n",
              "    </tr>\n",
              "    <tr>\n",
              "      <th>2</th>\n",
              "      <td>15/01/2021 05:27</td>\n",
              "      <td>just the start of dictatorship be ready americ...</td>\n",
              "      <td>{'neg': 0.176, 'neu': 0.682, 'pos': 0.142, 'co...</td>\n",
              "      <td>0.550000</td>\n",
              "      <td>-0.100000</td>\n",
              "    </tr>\n",
              "    <tr>\n",
              "      <th>3</th>\n",
              "      <td>15/01/2021 01:41</td>\n",
              "      <td>once again he can kiss my ass</td>\n",
              "      <td>{'neg': 0.31, 'neu': 0.442, 'pos': 0.248, 'com...</td>\n",
              "      <td>0.000000</td>\n",
              "      <td>0.000000</td>\n",
              "    </tr>\n",
              "    <tr>\n",
              "      <th>4</th>\n",
              "      <td>14/01/2021 23:44</td>\n",
              "      <td>i live in a state where masks are mandated and...</td>\n",
              "      <td>{'neg': 0.221, 'neu': 0.728, 'pos': 0.051, 'co...</td>\n",
              "      <td>0.590625</td>\n",
              "      <td>0.050379</td>\n",
              "    </tr>\n",
              "    <tr>\n",
              "      <th>...</th>\n",
              "      <td>...</td>\n",
              "      <td>...</td>\n",
              "      <td>...</td>\n",
              "      <td>...</td>\n",
              "      <td>...</td>\n",
              "    </tr>\n",
              "    <tr>\n",
              "      <th>317</th>\n",
              "      <td>11/01/2021 09:06</td>\n",
              "      <td>he's nuts.how about that..he's got a lot more ...</td>\n",
              "      <td>{'neg': 0.371, 'neu': 0.629, 'pos': 0.0, 'comp...</td>\n",
              "      <td>0.500000</td>\n",
              "      <td>0.500000</td>\n",
              "    </tr>\n",
              "    <tr>\n",
              "      <th>318</th>\n",
              "      <td>11/01/2021 09:06</td>\n",
              "      <td>easy for him.  he probably sleeps with it.</td>\n",
              "      <td>{'neg': 0.0, 'neu': 0.707, 'pos': 0.293, 'comp...</td>\n",
              "      <td>0.833333</td>\n",
              "      <td>0.433333</td>\n",
              "    </tr>\n",
              "    <tr>\n",
              "      <th>319</th>\n",
              "      <td>11/01/2021 09:06</td>\n",
              "      <td>????????????????biden</td>\n",
              "      <td>{'neg': 0.0, 'neu': 1.0, 'pos': 0.0, 'compound...</td>\n",
              "      <td>0.000000</td>\n",
              "      <td>0.000000</td>\n",
              "    </tr>\n",
              "    <tr>\n",
              "      <th>320</th>\n",
              "      <td>11/01/2021 09:06</td>\n",
              "      <td>????????????????biden</td>\n",
              "      <td>{'neg': 0.0, 'neu': 1.0, 'pos': 0.0, 'compound...</td>\n",
              "      <td>0.000000</td>\n",
              "      <td>0.000000</td>\n",
              "    </tr>\n",
              "    <tr>\n",
              "      <th>321</th>\n",
              "      <td>11/01/2021 09:05</td>\n",
              "      <td>what do you think about this?</td>\n",
              "      <td>{'neg': 0.0, 'neu': 1.0, 'pos': 0.0, 'compound...</td>\n",
              "      <td>0.000000</td>\n",
              "      <td>0.000000</td>\n",
              "    </tr>\n",
              "  </tbody>\n",
              "</table>\n",
              "<p>322 rows × 5 columns</p>\n",
              "</div>"
            ],
            "text/plain": [
              "         created_time  ...  Polarity\n",
              "0    15/01/2021 06:14  ...  0.500000\n",
              "1    15/01/2021 05:42  ... -0.466667\n",
              "2    15/01/2021 05:27  ... -0.100000\n",
              "3    15/01/2021 01:41  ...  0.000000\n",
              "4    14/01/2021 23:44  ...  0.050379\n",
              "..                ...  ...       ...\n",
              "317  11/01/2021 09:06  ...  0.500000\n",
              "318  11/01/2021 09:06  ...  0.433333\n",
              "319  11/01/2021 09:06  ...  0.000000\n",
              "320  11/01/2021 09:06  ...  0.000000\n",
              "321  11/01/2021 09:05  ...  0.000000\n",
              "\n",
              "[322 rows x 5 columns]"
            ]
          },
          "metadata": {
            "tags": []
          },
          "execution_count": 12
        }
      ]
    },
    {
      "cell_type": "code",
      "metadata": {
        "colab": {
          "base_uri": "https://localhost:8080/",
          "height": 589
        },
        "id": "DWLMsbFyeIHg",
        "outputId": "6d74fb71-85a1-4cbe-b074-793c609dd863"
      },
      "source": [
        "# Function to compute the negative, neutral and positive analysis\r\n",
        "def getAnalysis(score):\r\n",
        "  if score < 0:\r\n",
        "    return 'Negative'\r\n",
        "  elif score == 0:\r\n",
        "    return 'Neutral'\r\n",
        "  else:\r\n",
        "    return 'Positive'\r\n",
        "\r\n",
        "df['Analysis'] = df['Polarity'].apply(getAnalysis)\r\n",
        "\r\n",
        "# Display data\r\n",
        "df"
      ],
      "execution_count": null,
      "outputs": [
        {
          "output_type": "execute_result",
          "data": {
            "text/html": [
              "<div>\n",
              "<style scoped>\n",
              "    .dataframe tbody tr th:only-of-type {\n",
              "        vertical-align: middle;\n",
              "    }\n",
              "\n",
              "    .dataframe tbody tr th {\n",
              "        vertical-align: top;\n",
              "    }\n",
              "\n",
              "    .dataframe thead th {\n",
              "        text-align: right;\n",
              "    }\n",
              "</style>\n",
              "<table border=\"1\" class=\"dataframe\">\n",
              "  <thead>\n",
              "    <tr style=\"text-align: right;\">\n",
              "      <th></th>\n",
              "      <th>created_time</th>\n",
              "      <th>message</th>\n",
              "      <th>polarity</th>\n",
              "      <th>Subjectivity</th>\n",
              "      <th>Polarity</th>\n",
              "      <th>Analysis</th>\n",
              "    </tr>\n",
              "  </thead>\n",
              "  <tbody>\n",
              "    <tr>\n",
              "      <th>0</th>\n",
              "      <td>15/01/2021 06:14</td>\n",
              "      <td>i have know more words for this guy...</td>\n",
              "      <td>{'neg': 0.0, 'neu': 1.0, 'pos': 0.0, 'compound...</td>\n",
              "      <td>0.500000</td>\n",
              "      <td>0.500000</td>\n",
              "      <td>Positive</td>\n",
              "    </tr>\n",
              "    <tr>\n",
              "      <th>1</th>\n",
              "      <td>15/01/2021 05:42</td>\n",
              "      <td>fuck him i will not wear on. half the people i...</td>\n",
              "      <td>{'neg': 0.196, 'neu': 0.804, 'pos': 0.0, 'comp...</td>\n",
              "      <td>0.666667</td>\n",
              "      <td>-0.466667</td>\n",
              "      <td>Negative</td>\n",
              "    </tr>\n",
              "    <tr>\n",
              "      <th>2</th>\n",
              "      <td>15/01/2021 05:27</td>\n",
              "      <td>just the start of dictatorship be ready americ...</td>\n",
              "      <td>{'neg': 0.176, 'neu': 0.682, 'pos': 0.142, 'co...</td>\n",
              "      <td>0.550000</td>\n",
              "      <td>-0.100000</td>\n",
              "      <td>Negative</td>\n",
              "    </tr>\n",
              "    <tr>\n",
              "      <th>3</th>\n",
              "      <td>15/01/2021 01:41</td>\n",
              "      <td>once again he can kiss my ass</td>\n",
              "      <td>{'neg': 0.31, 'neu': 0.442, 'pos': 0.248, 'com...</td>\n",
              "      <td>0.000000</td>\n",
              "      <td>0.000000</td>\n",
              "      <td>Neutral</td>\n",
              "    </tr>\n",
              "    <tr>\n",
              "      <th>4</th>\n",
              "      <td>14/01/2021 23:44</td>\n",
              "      <td>i live in a state where masks are mandated and...</td>\n",
              "      <td>{'neg': 0.221, 'neu': 0.728, 'pos': 0.051, 'co...</td>\n",
              "      <td>0.590625</td>\n",
              "      <td>0.050379</td>\n",
              "      <td>Positive</td>\n",
              "    </tr>\n",
              "    <tr>\n",
              "      <th>...</th>\n",
              "      <td>...</td>\n",
              "      <td>...</td>\n",
              "      <td>...</td>\n",
              "      <td>...</td>\n",
              "      <td>...</td>\n",
              "      <td>...</td>\n",
              "    </tr>\n",
              "    <tr>\n",
              "      <th>317</th>\n",
              "      <td>11/01/2021 09:06</td>\n",
              "      <td>he's nuts.how about that..he's got a lot more ...</td>\n",
              "      <td>{'neg': 0.371, 'neu': 0.629, 'pos': 0.0, 'comp...</td>\n",
              "      <td>0.500000</td>\n",
              "      <td>0.500000</td>\n",
              "      <td>Positive</td>\n",
              "    </tr>\n",
              "    <tr>\n",
              "      <th>318</th>\n",
              "      <td>11/01/2021 09:06</td>\n",
              "      <td>easy for him.  he probably sleeps with it.</td>\n",
              "      <td>{'neg': 0.0, 'neu': 0.707, 'pos': 0.293, 'comp...</td>\n",
              "      <td>0.833333</td>\n",
              "      <td>0.433333</td>\n",
              "      <td>Positive</td>\n",
              "    </tr>\n",
              "    <tr>\n",
              "      <th>319</th>\n",
              "      <td>11/01/2021 09:06</td>\n",
              "      <td>????????????????biden</td>\n",
              "      <td>{'neg': 0.0, 'neu': 1.0, 'pos': 0.0, 'compound...</td>\n",
              "      <td>0.000000</td>\n",
              "      <td>0.000000</td>\n",
              "      <td>Neutral</td>\n",
              "    </tr>\n",
              "    <tr>\n",
              "      <th>320</th>\n",
              "      <td>11/01/2021 09:06</td>\n",
              "      <td>????????????????biden</td>\n",
              "      <td>{'neg': 0.0, 'neu': 1.0, 'pos': 0.0, 'compound...</td>\n",
              "      <td>0.000000</td>\n",
              "      <td>0.000000</td>\n",
              "      <td>Neutral</td>\n",
              "    </tr>\n",
              "    <tr>\n",
              "      <th>321</th>\n",
              "      <td>11/01/2021 09:05</td>\n",
              "      <td>what do you think about this?</td>\n",
              "      <td>{'neg': 0.0, 'neu': 1.0, 'pos': 0.0, 'compound...</td>\n",
              "      <td>0.000000</td>\n",
              "      <td>0.000000</td>\n",
              "      <td>Neutral</td>\n",
              "    </tr>\n",
              "  </tbody>\n",
              "</table>\n",
              "<p>322 rows × 6 columns</p>\n",
              "</div>"
            ],
            "text/plain": [
              "         created_time  ...  Analysis\n",
              "0    15/01/2021 06:14  ...  Positive\n",
              "1    15/01/2021 05:42  ...  Negative\n",
              "2    15/01/2021 05:27  ...  Negative\n",
              "3    15/01/2021 01:41  ...   Neutral\n",
              "4    14/01/2021 23:44  ...  Positive\n",
              "..                ...  ...       ...\n",
              "317  11/01/2021 09:06  ...  Positive\n",
              "318  11/01/2021 09:06  ...  Positive\n",
              "319  11/01/2021 09:06  ...   Neutral\n",
              "320  11/01/2021 09:06  ...   Neutral\n",
              "321  11/01/2021 09:05  ...   Neutral\n",
              "\n",
              "[322 rows x 6 columns]"
            ]
          },
          "metadata": {
            "tags": []
          },
          "execution_count": 12
        }
      ]
    },
    {
      "cell_type": "markdown",
      "metadata": {
        "id": "LEG3Bw_foSzQ"
      },
      "source": [
        "### Print Positive Comments\r\n"
      ]
    },
    {
      "cell_type": "code",
      "metadata": {
        "colab": {
          "base_uri": "https://localhost:8080/"
        },
        "id": "utpdwSZQVaK-",
        "outputId": "8df66401-6f2c-4f1e-eeee-17f18c321364"
      },
      "source": [
        "# Print all positive comments\r\n",
        "j=1\r\n",
        "sortedDF = df.sort_values(by=['Polarity'])\r\n",
        "for i in range(0, sortedDF.shape[0]):\r\n",
        "  if( sortedDF['Analysis'][i] == 'Positive'):\r\n",
        "    print(str(j) + ') ' + sortedDF['message'][i])\r\n",
        "    print()\r\n",
        "    j= j+1"
      ],
      "execution_count": null,
      "outputs": [
        {
          "output_type": "stream",
          "text": [
            "1) i have know more words for this guy...\n",
            "\n",
            "2) i live in a state where masks are mandated and its a fight every day to get customers to wear their masks when they come in the basic human instinct is to make our own decisions ppl can be told to do something but its up to them to actually do it i personally am over the lies and the bullshit welcome to 4 years of ridiculous crap\n",
            "\n",
            "3) he better consult the real leaders of the new word order his bosses and the people that now controll and bought our country silicon valley. good job america only in name now.idiots.\n",
            "\n",
            "4) good luck\n",
            "\n",
            "5) dont forget to pok a hole in the mouth area when designing a new mask to insert a straw so food can suck in... restaurant will have new menu called protein meat smoothies\n",
            "\n",
            "6) good luck in enforcing it. we still r america. freedom of choice.\n",
            "\n",
            "7) absolutely this bs is the communist party playbook\n",
            "\n",
            "8) good!\n",
            "\n",
            "9) make dont work if he wants wear one more power to him\n",
            "\n",
            "10) it is about control. see how fast they can tell us what to do and where to go. \n",
            "\n",
            "11) antifa members were escorted by the police to the front of the capital. this was staged by the democrats, but now they are in serious trouble, because 5 people died. the police open the door for antifa. there are many pictures showing antifa vandalizing the inside of the building.  watch!    folks, they got pelosi's lap top and can prove her involvement. it was seized during the riot.  \n",
            "\n",
            "12) antifa members were escorted by the police to the front of the capital. this was staged by the democrats, but now they are in serious trouble, because 5 people died. the police open the door for antifa. there are many pictures showing antifa vandalizing the inside of the building.  watch!    folks, they got pelosi's lap top and can prove her involvement. it was seized during the riot.  \n",
            "\n",
            "13) while watching this video, please keep in mind that blm/antifa have destroyed democratic run cities with no repercussion, they've killed police officers and injured over 1,000. to date, they have been openly allowed to commit crimes, again with no repercussion. we have many well known corporations donating to them as well as many celebrities. with that being said, i am asking every american citizen to boycott anyone that is donating to homeland terrorism. if you see a commercial advertising blm, call them and demand that it be removed!  fyi money donated to blm, goes to \"act blue\" which is actually a fund raising arm of the democratic party. so, basically the democrats funded the destruction of their democrat run states. if you donated to blm, you actually funded murdering police officers as well as the over 1,000 that were injured. many innocent american citizens were also murdered and/or injured by blm.  the money donated didn't go to improve black neighborhoods and/or black people's lives, the money donated gave them the capability to heavily arm each and everyone of them. now, they all have body armor as well as the most sophisticated weapons money can buy.   do not donate to these homeland terrorists! in actuality, since they are self proclaimed marxist/communist, you are donating to your own demise. their goal is to destroy capitalism as well as the family nucleus. fyi hitler, did the same thing before he killed millions of innocent jewish people using gas chambers and mass graves.\n",
            "\n",
            "14) inside ok, outside no way\n",
            "\n",
            "15) wow is this joes big plan for getting rid of the covid what a genius lol\n",
            "\n",
            "16) i am interested in seeing how he will enforce it !\n",
            "\n",
            "17) good luck with that\n",
            "\n",
            "18) he needs a full mask over his head\n",
            "\n",
            "19) he's  getting rich off this for sure\n",
            "\n",
            "20) lol thought it aready was\n",
            "\n",
            "21) make us... i have wore a mask exactly one time since this supposed covid outbreak. they wouldn't let me in dmv to register a car without it. anywhere else i suggest they kiss my ass.\n",
            "\n",
            "22) at first he said he would not do that when president. now he is.\n",
            "\n",
            "23) go smell harris hair and leave the innocent little girls hair alone....and leave american citizens alone too  biden\n",
            "\n",
            "24) i'll do whatever i want. just like twitter,  apple, google and others. i am a private company of my own!\n",
            "\n",
            "25) yes i agree we need to stop the virus that trump unleashed on our country he went to china as he flew back to the united states he tossed hand full out the window and spread it all over the world that is what he did \n",
            "\n",
            "26) pull your mask up higher joe so we don't have to see your face.\n",
            "\n",
            "27) wow what a presidential first action. lol. whats next in this sleepy joe?\n",
            "\n",
            "28) another ground breaking concept from our president elect!!\n",
            "\n",
            "29) wonder if hes going to work for free ?????? hahahaha yea right!\n",
            "\n",
            "30) really, like we didn't know that. thought he had a plan. china joe\n",
            "\n",
            "31) will he send beto out to get our guns too? haha\n",
            "\n",
            "32) old news this is from last year shortly after elections. \n",
            "\n",
            "33) i am free, white and 21 and joe you don't tell me what to do.\n",
            "\n",
            "34) good luck!\n",
            "\n",
            "35) where will it go from there??? wow\n",
            "\n",
            "36) i live in new york . it'll be no different, we already have a dictatorship here !!!\n",
            "\n",
            "37) hes not pushing for a mask mandate he does know what hes doing he has dementia its a cronies around him. and honestly what have people been doing for months now. he will not do a better job than president trump he certainly didnt do it with sars when you were in office and did a terrible job\n",
            "\n",
            "38) absolutely dont care what he says for the next four years  he cant even push his own wheelchair  not my president ????\n",
            "\n",
            "39) imagine if trump even mentioned that idea. the states are supposed to be in charge and honestly i dont need any government telling me whats best to protect my family and fellow citizens.   the democrats will be praising biden for it but i do hope the states do not just turn over their power to the federal government. \n",
            "\n",
            "40) imagine if trump even mentioned that idea. the states are supposed to be in charge and honestly i dont need any government telling me whats best to protect my family and fellow citizens.   the democrats will be praising biden for it but i do hope the states do not just turn over their power to the federal government. \n",
            "\n",
            "41) i think we should pick a high bridge in one of our 50 states and push biden off\n",
            "\n",
            "42) fauci wants to stay on the gravey train, 2 faced    con man\n",
            "\n",
            "43) he can take his mask and shove it straight up his ass....\n",
            "\n",
            "44) oh that will help with unity  for sure.....\n",
            "\n",
            "45) he's nuts.how about that..he's got a lot more things to worry about..the war that's coming\n",
            "\n",
            "46) easy for him.  he probably sleeps with it.\n",
            "\n"
          ],
          "name": "stdout"
        }
      ]
    },
    {
      "cell_type": "markdown",
      "metadata": {
        "id": "1QzGpiEWWfL1"
      },
      "source": [
        "### Print Negative Comments\r\n"
      ]
    },
    {
      "cell_type": "code",
      "metadata": {
        "colab": {
          "base_uri": "https://localhost:8080/"
        },
        "id": "5RixD0ieWd6p",
        "outputId": "a0a42753-82fe-40b5-bedb-2c8ea58400be"
      },
      "source": [
        "# Print all negative comments\r\n",
        "j=1\r\n",
        "sortedDF = df.sort_values(by=['Polarity'], ascending='False')\r\n",
        "for i in range(0, sortedDF.shape[0]):\r\n",
        "  if(sortedDF['Analysis'][i] == 'Negative'):\r\n",
        "    print(str(j) + ')'+sortedDF['message'][i])\r\n",
        "    print()\r\n",
        "    j=j+1"
      ],
      "execution_count": null,
      "outputs": [
        {
          "output_type": "stream",
          "text": [
            "1)fuck him i will not wear on. half the people i see wearing them are wearing wrong so to the stupid people out there wearing masks you do know that your nose has it be in the mask for it to work if you believe it does\n",
            "\n",
            "2)just the start of dictatorship be ready america the worse is yet to come.\n",
            "\n",
            "3)fuck him\n",
            "\n",
            "4)fuck you joe \n",
            "\n",
            "5)fuck biden\n",
            "\n",
            "6)eat shit you disgusting cheating lying baboon \n",
            "\n",
            "7)f this blithering idiot!!\n",
            "\n",
            "8)i decide when and where i wear a mask. i don't need an empty headed clown telling me what to do. freedom of choice. \n",
            "\n",
            "9)umm your a fucking idiot\n",
            "\n",
            "10)i think a white male  is fucked\n",
            "\n",
            "11)not in your power, idiot.\n",
            "\n",
            "12)fuck you dumb ass biden\n",
            "\n",
            "13)if they've been wearing them in the states that have covid the worst then why is covid still so bad thete 3\n",
            "\n",
            "14)i see he got his second shot today sad. 4 the rest of the u.s.\n",
            "\n",
            "15)fuck you biden\n",
            "\n",
            "16)your  defunded the police  how you going to  enforce  that when you chouldnt  stop  a few peaceful  protesters  from taking over the  capitol,  and even  that police  didn't  want to harm there brothers, for your  sorry ass,\n",
            "\n",
            "17)what part of i will not comply dont you get? not wearing the shit, not for anyone....notta, you better lay the fuck off this subject\n",
            "\n",
            "18)he is a fucking moron just like the rest of them. devil worshipers\n",
            "\n",
            "19)with everything going on hes about to be in jail with pelosi\n",
            "\n",
            "20)sleep joe  is stupid  he can't  remember  anything  he  says  are where he is... we are going  to  be  in a  lot of  trouble  with  sleep joe..... we all going  to  die\n",
            "\n",
            "21)he can kiss my ass right in the middle what a worthless pos & fake \n",
            "\n",
            "22)f**k you cheater and criminal\n",
            "\n",
            "23)fuck him\n",
            "\n",
            "24)this is the guy they want to put into our white house. he is a pedophile, criminal and plagiarist. are you ok with this?!  this shows how sick and twisted biden really is towards children. must read and share!        this is much bigger than we thought. the 3 hard drives contain the evidence of the democtrat party working directly with the chinese communist party (ccp) to put america under the control of china. this story is convoluted, one story about hunter's laptop contents, with a deeper story of the ccp compromising high level politicians on video with underage sex slaves and copious amounts of money for the purpose of controlling them and their policy decisions. china had all of this evidence first, because they initiated the evidence by setting up top officials (and their family members), and they have been using it to blackmail and control the entire upper levels of the democrat party and some republicans too. the entire deep state swamp is in the back pocket of the chinese communist party. the hard drives are in the hands of trump, doj, and fbi, and copies of the drives were sent to pelosi weeks, or even months, ago as a clear message--\"we have the evidence on all of you so, whatever it takes, defeat trump or you're all going down\". the reason this story is being so blatantly censored is because it's way bigger than just the bidens. it's a global game-changer. fb has major filtering on the accompanying video so i have posted the video link in the comment section below. open it from there. the chinese billionaire speaking in the video went missing a few weeks ago. i can guarantee you, he will never be heard from again. (if you share this post, please paste the video link from my comment feed into your comment feed).  here's your proof of biden's involvement in the attempted overthrow of the united states! pelosi is called out on this video by china!  \n",
            "\n",
            "25)this is much bigger than we thought. the 3 hard drives contain the evidence of the democtrat party working directly with the chinese communist party (ccp) to put america under the control of china. this story is convoluted, one story about hunter's laptop contents, with a deeper story of the ccp compromising high level politicians on video with underage sex slaves and copious amounts of money for the purpose of controlling them and their policy decisions. china had all of this evidence first, because they initiated the evidence by setting up top officials (and their family members), and they have been using it to blackmail and control the entire upper levels of the democrat party and some republicans too. the entire deep state swamp is in the back pocket of the chinese communist party. the hard drives are in the hands of trump, doj, and fbi, and copies of the drives were sent to pelosi weeks, or even months, ago as a clear message--\"we have the evidence on all of you so, whatever it takes, defeat trump or you're all going down\". the reason this story is being so blatantly censored is because it's way bigger than just the bidens. it's a global game-changer. fb has major filtering on the accompanying video so i have posted the video link in the comment section below. open it from there. the chinese billionaire speaking in the video went missing a few weeks ago. i can guarantee you, he will never be heard from again. (if you share this post, please paste the video link from my comment feed into your comment feed).  here's your proof of biden's involvement in the attempted overthrow of the united states! pelosi is called out on this vi\n",
            "\n",
            "26)biden is the biggest traitor and criminal in the history of the united states!! here's your proof of biden's involvement in the attempted overthrow of the united states! pelosi is called out on this video by china!    this is much bigger than we thought. the 3 hard drives contain the evidence of the democtrat party working directly with the chinese communist party (ccp) to put america under the control of china. this story is convoluted, one story about hunter's laptop contents, with a deeper story of the ccp compromising high level politicians on video with underage sex slaves and copious amounts of money for the purpose of controlling them and their policy decisions. china had all of this evidence first, because they initiated the evidence by setting up top officials (and their family members), and they have been using it to blackmail and control the entire upper levels of the democrat party and some republicans too. the entire deep state swamp is in the back pocket of the chinese communist party. the hard drives are in the hands of trump, doj, and fbi, and copies of the drives were sent to pelosi weeks, or even months, ago as a clear message--\"we have the evidence on all of you so, whatever it takes, defeat trump or you're all going down\". the reason this story is being so blatantly censored is because it's way bigger than just the bidens. it's a global game-changer. fb has major filtering on the accompanying video so i have posted the video link in the comment section below. open it from there. the chinese billionaire speaking in the video went missing a few weeks ago. i can guarantee you, he will never be heard from again. (if you share this post, please paste the video link from my comment feed into your comment feed).\n",
            "\n",
            "27)biden is the biggest traitor and criminal in the history of the united states!! here's your proof of biden's involvement in the attempted overthrow of the united states! pelosi is called out on this video by china!    this is much bigger than we thought. the 3 hard drives contain the evidence of the democtrat party working directly with the chinese communist party (ccp) to put america under the control of china. this story is convoluted, one story about hunter's laptop contents, with a deeper story of the ccp compromising high level politicians on video with underage sex slaves and copious amounts of money for the purpose of controlling them and their policy decisions. china had all of this evidence first, because they initiated the evidence by setting up top officials (and their family members), and they have been using it to blackmail and control the entire upper levels of the democrat party and some republicans too. the entire deep state swamp is in the back pocket of the chinese communist party. the hard drives are in the hands of trump, doj, and fbi, and copies of the drives were sent to pelosi weeks, or even months, ago as a clear message--\"we have the evidence on all of you so, whatever it takes, defeat trump or you're all going down\". the reason this story is being so blatantly censored is because it's way bigger than just the bidens. it's a global game-changer. fb has major filtering on the accompanying video so i have posted the video link in the comment section below. open it from there. the chinese billionaire speaking in the video went missing a few weeks ago. i can guarantee you, he will never be heard from again. (if you share this post, please paste the video link from my comment feed into your comment feed).\n",
            "\n",
            "28)insane \n",
            "\n",
            "29)fuck biden the pedophile\n",
            "\n",
            "30)i think he is an idiot and don't want him for president\n",
            "\n",
            "31)stop the fear! open up, lets get to herd immunity already. mask dont work obviously, if its still raging? life is inherently dangerous. go hide under a rock if its too much for you to bare! \n",
            "\n",
            "32)i got something he can push.piece of shit pedophile\n",
            "\n",
            "33)stick your masks where sun don't shine idiot\n",
            "\n",
            "34)stupid, but he can even though he has no right. trump said it was up to the govenors.\n",
            "\n",
            "35)fuck you??\n",
            "\n",
            "36)fuck you??\n",
            "\n",
            "37)stupid old man cant amazing he run the country very sad day for america going downhill \n",
            "\n",
            "38)i think hes a fucking nut\n",
            "\n",
            "39)good luck with that, idiot!!!\n",
            "\n",
            "40)no one should have to tell you to put a mask on you should be smart enough to do it with out anyone telling you but stupid is as stupid does for you dumb assholes that just don't get it.  have someone you love die and then you might get it but i doubt it\n",
            "\n",
            "41)duh ?\n",
            "\n",
            "42)duh ?\n",
            "\n",
            "43)he about as stupid as the people that wears mask driving alone in the cars.\n",
            "\n",
            "44)go fuck yourself pos !!!\n",
            "\n",
            "45)fuck joe obiden!\n",
            "\n",
            "46)hes not my president and i dont give a fuck what he says\n",
            "\n",
            "47)bidens a  moron and needs to go back in basement.\n",
            "\n",
            "48)sorry telling us what to wear is unconstitutional.\n",
            "\n",
            "49)um fuck off\n",
            "\n",
            "50)i am so sick of the dam mask and sick of hearing about covid too\n",
            "\n",
            "51)us not your china moron\n",
            "\n",
            "52)sorry its my right and ill fight it all the way to court \n",
            "\n",
            "53)that's common sense don't need the president to tell.us that.\n",
            "\n",
            "54)stick your mask up your arse, they are the f_$ ng problem get out and get fresh air you dumb ass\n",
            "\n",
            "55)fuck this guy and mark zuck\n",
            "\n",
            "56)joe biden can go fuck himself.\n",
            "\n",
            "57)he can go fuck himself...i have my rights...but i choose to wear one because of my job and my family...not doe him! never!\n",
            "\n",
            "58)fuck joe biden and anyone who voted for him.\n",
            "\n",
            "59)stupid as usual!\n",
            "\n",
            "60)go zto hell creepy joe\n",
            "\n",
            "61)what does he think weve been doing for 9 months.  what a moron \n",
            "\n",
            "62)take your mask nazis and fuck off. traitor. stand against this oppression of rights.\n",
            "\n",
            "63)i am behind you\n",
            "\n",
            "64)stick the mask shit up your ass \n",
            "\n",
            "65)biden can go to china (hell), and fuck himself.\n",
            "\n",
            "66)fuck him\n",
            "\n",
            "67)fuck him\n",
            "\n",
            "68)they want everyone to be dependent on govt. what these morons voted for us disgusting.\n",
            "\n",
            "69)i think bumbling biden is a puppet clown. no respect for this idiot\n",
            "\n",
            "70)fuck you. \n",
            "\n",
            "71)fuck you. \n",
            "\n",
            "72)facebook and twitter stock holders sell your stock before it's worthless.\n",
            "\n",
            "73)i'm going with fuck no.  i haven't nor will i ever wear a mask.  mandate this motherfucker!\n",
            "\n",
            "74)fuck you biden you are a moron . your sins will come out soon\n",
            "\n",
            "75)a 1/3  will never do it. it will take a long time  to get it under control.\n",
            "\n",
            "76)he can kiss my ass i aint doing shit \n",
            "\n",
            "77)wrong, who told you to say that joe\n",
            "\n",
            "78)it's not going to stop him from sniffing little children\n",
            "\n",
            "79)he's a fucking idiot\n",
            "\n",
            "80)hes a moron\n",
            "\n",
            "81)fuck that!! pedo joe and spread my legs harris can take that mask mandate and shove it up there a$$\n",
            "\n",
            "82)fuck him notmypresident\n",
            "\n",
            "83)fuck him\n",
            "\n",
            "84)fuck him\n",
            "\n",
            "85)fucking idiot's\n",
            "\n"
          ],
          "name": "stdout"
        }
      ]
    },
    {
      "cell_type": "markdown",
      "metadata": {
        "id": "o7deTDQqKHFK"
      },
      "source": [
        "### Visualization"
      ]
    },
    {
      "cell_type": "code",
      "metadata": {
        "colab": {
          "base_uri": "https://localhost:8080/",
          "height": 248
        },
        "id": "lIlYtoVNQZ8K",
        "outputId": "7ff43d46-cd19-4638-ca5f-ba953049ba20"
      },
      "source": [
        "# plot Word Cloud\r\n",
        "allWords = ' '.join( [message for message in df['message']])\r\n",
        "wordCloud = WordCloud(width = 500, height=300, random_state = 21, max_font_size=119).generate(allWords)\r\n",
        "\r\n",
        "plt.imshow(wordCloud, interpolation=\"bilinear\")\r\n",
        "plt.axis('off')\r\n",
        "plt.show()"
      ],
      "execution_count": null,
      "outputs": [
        {
          "output_type": "display_data",
          "data": {
            "image/png": "[encoded data removed]",
            "text/plain": [
              "<Figure size 432x288 with 1 Axes>"
            ]
          },
          "metadata": {
            "tags": [],
            "needs_background": "light"
          }
        }
      ]
    },
    {
      "cell_type": "code",
      "metadata": {
        "colab": {
          "base_uri": "https://localhost:8080/",
          "height": 405
        },
        "id": "eJqQJx_BXeys",
        "outputId": "dafd4fd8-d97c-4720-9666-ed77a7030637"
      },
      "source": [
        "# Plot the polarity and subjectivity\r\n",
        "plt.figure(figsize=(8,6))\r\n",
        "for i in range(0, df.shape[0]):\r\n",
        "  plt.scatter(df['Polarity'][i], df['Subjectivity'][i], color='Blue')\r\n",
        "\r\n",
        "plt.title('Sentiment Analysis')\r\n",
        "plt.xlabel('Polarity')\r\n",
        "plt.ylabel('Subjectivity')\r\n",
        "plt.show()"
      ],
      "execution_count": null,
      "outputs": [
        {
          "output_type": "display_data",
          "data": {
            "image/png": "[encoded data removed]",
            "text/plain": [
              "<Figure size 576x432 with 1 Axes>"
            ]
          },
          "metadata": {
            "tags": [],
            "needs_background": "light"
          }
        }
      ]
    },
    {
      "cell_type": "code",
      "metadata": {
        "colab": {
          "base_uri": "https://localhost:8080/",
          "height": 349
        },
        "id": "9aq05bMGaLNj",
        "outputId": "b3ddb4b0-48f2-41fe-f929-db0edc5829c4"
      },
      "source": [
        "# Show value counts\r\n",
        "\r\n",
        "df['Analysis'].value_counts()\r\n",
        "\r\n",
        "# Plot and visualize the counts\r\n",
        "plt.title('Sentiment Analysis')\r\n",
        "plt.xlabel('Sentiment')\r\n",
        "plt.ylabel('Counts')\r\n",
        "df['Analysis'].value_counts().plot(kind='bar')\r\n",
        "plt.show"
      ],
      "execution_count": null,
      "outputs": [
        {
          "output_type": "execute_result",
          "data": {
            "text/plain": [
              "<function matplotlib.pyplot.show>"
            ]
          },
          "metadata": {
            "tags": []
          },
          "execution_count": 17
        },
        {
          "output_type": "display_data",
          "data": {
            "image/png": "[encoded data removed]",
            "text/plain": [
              "<Figure size 432x288 with 1 Axes>"
            ]
          },
          "metadata": {
            "tags": [],
            "needs_background": "light"
          }
        }
      ]
    },
    {
      "cell_type": "markdown",
      "metadata": {
        "id": "lwlkeD9bKU-f"
      },
      "source": [
        "### Save to CSV"
      ]
    },
    {
      "cell_type": "code",
      "metadata": {
        "id": "M0c0wY7YKYMP"
      },
      "source": [
        "df.to_csv('Output_File.csv', index=False)"
      ],
      "execution_count": null,
      "outputs": []
    }
  ]
}